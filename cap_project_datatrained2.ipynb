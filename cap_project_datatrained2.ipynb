{
 "cells": [
  {
   "cell_type": "code",
   "execution_count": 101,
   "id": "a0e28f3f",
   "metadata": {},
   "outputs": [],
   "source": [
    "#Phase 3 and 4 \n",
    "#Do the complete EDA in detail to explore the insights of data and write detailed observations of each analysis.\n",
    "\n",
    "#-----------------------------------IMDB Project-------------------------------------------------\n",
    "#Import the libraries\n",
    "import numpy as np\n",
    "import pandas as pd\n",
    "import sklearn\n",
    "import matplotlib.pyplot as plt\n",
    "import seaborn as sns\n",
    "from sklearn.model_selection import train_test_split"
   ]
  },
  {
   "cell_type": "code",
   "execution_count": 102,
   "id": "a6aaa8a0",
   "metadata": {},
   "outputs": [
    {
     "data": {
      "text/html": [
       "<div>\n",
       "<style scoped>\n",
       "    .dataframe tbody tr th:only-of-type {\n",
       "        vertical-align: middle;\n",
       "    }\n",
       "\n",
       "    .dataframe tbody tr th {\n",
       "        vertical-align: top;\n",
       "    }\n",
       "\n",
       "    .dataframe thead th {\n",
       "        text-align: right;\n",
       "    }\n",
       "</style>\n",
       "<table border=\"1\" class=\"dataframe\">\n",
       "  <thead>\n",
       "    <tr style=\"text-align: right;\">\n",
       "      <th></th>\n",
       "      <th>Unnamed: 0</th>\n",
       "      <th>Serial Number</th>\n",
       "      <th>Movie Name</th>\n",
       "      <th>Year</th>\n",
       "      <th>Duration(In Minutes)</th>\n",
       "      <th>Ratings</th>\n",
       "      <th>MetaScore</th>\n",
       "      <th>Votes</th>\n",
       "      <th>Gross_Collection(In Million Dollars)</th>\n",
       "      <th>Genre</th>\n",
       "    </tr>\n",
       "  </thead>\n",
       "  <tbody>\n",
       "    <tr>\n",
       "      <th>0</th>\n",
       "      <td>0</td>\n",
       "      <td>1</td>\n",
       "      <td>Spider-Man: Across the Spider-Verse</td>\n",
       "      <td>2023</td>\n",
       "      <td>140</td>\n",
       "      <td>9.0</td>\n",
       "      <td>86</td>\n",
       "      <td>134907</td>\n",
       "      <td></td>\n",
       "      <td>Animation, Action, Adventure</td>\n",
       "    </tr>\n",
       "    <tr>\n",
       "      <th>1</th>\n",
       "      <td>1</td>\n",
       "      <td>2</td>\n",
       "      <td>The Dark Knight</td>\n",
       "      <td>2008</td>\n",
       "      <td>152</td>\n",
       "      <td>9.0</td>\n",
       "      <td>84</td>\n",
       "      <td>2726811</td>\n",
       "      <td>534.86</td>\n",
       "      <td>Action, Crime, Drama</td>\n",
       "    </tr>\n",
       "    <tr>\n",
       "      <th>2</th>\n",
       "      <td>2</td>\n",
       "      <td>3</td>\n",
       "      <td>The Lord of the Rings: The Return of the King</td>\n",
       "      <td>2003</td>\n",
       "      <td>201</td>\n",
       "      <td>9.0</td>\n",
       "      <td>94</td>\n",
       "      <td>1891761</td>\n",
       "      <td>377.85</td>\n",
       "      <td>Action, Adventure, Drama</td>\n",
       "    </tr>\n",
       "    <tr>\n",
       "      <th>3</th>\n",
       "      <td>3</td>\n",
       "      <td>4</td>\n",
       "      <td>Inception</td>\n",
       "      <td>2010</td>\n",
       "      <td>148</td>\n",
       "      <td>8.8</td>\n",
       "      <td>74</td>\n",
       "      <td>2420044</td>\n",
       "      <td>292.58</td>\n",
       "      <td>Action, Adventure, Sci-Fi</td>\n",
       "    </tr>\n",
       "    <tr>\n",
       "      <th>4</th>\n",
       "      <td>4</td>\n",
       "      <td>5</td>\n",
       "      <td>The Lord of the Rings: The Fellowship of the Ring</td>\n",
       "      <td>2001</td>\n",
       "      <td>178</td>\n",
       "      <td>8.8</td>\n",
       "      <td>92</td>\n",
       "      <td>1920309</td>\n",
       "      <td>315.54</td>\n",
       "      <td>Action, Adventure, Drama</td>\n",
       "    </tr>\n",
       "    <tr>\n",
       "      <th>...</th>\n",
       "      <td>...</td>\n",
       "      <td>...</td>\n",
       "      <td>...</td>\n",
       "      <td>...</td>\n",
       "      <td>...</td>\n",
       "      <td>...</td>\n",
       "      <td>...</td>\n",
       "      <td>...</td>\n",
       "      <td>...</td>\n",
       "      <td>...</td>\n",
       "    </tr>\n",
       "    <tr>\n",
       "      <th>1745</th>\n",
       "      <td>1745</td>\n",
       "      <td>1746</td>\n",
       "      <td>Battlefield Earth</td>\n",
       "      <td>2000</td>\n",
       "      <td>118</td>\n",
       "      <td>2.5</td>\n",
       "      <td>9</td>\n",
       "      <td>81710</td>\n",
       "      <td>21.47</td>\n",
       "      <td>Action, Adventure, Sci-Fi</td>\n",
       "    </tr>\n",
       "    <tr>\n",
       "      <th>1746</th>\n",
       "      <td>1746</td>\n",
       "      <td>1747</td>\n",
       "      <td>Heropanti 2</td>\n",
       "      <td>2022</td>\n",
       "      <td>145</td>\n",
       "      <td>2.5</td>\n",
       "      <td></td>\n",
       "      <td>27012</td>\n",
       "      <td></td>\n",
       "      <td>Action, Comedy, Crime</td>\n",
       "    </tr>\n",
       "    <tr>\n",
       "      <th>1747</th>\n",
       "      <td>1747</td>\n",
       "      <td>1748</td>\n",
       "      <td>Laxmii</td>\n",
       "      <td>2020</td>\n",
       "      <td>141</td>\n",
       "      <td>2.5</td>\n",
       "      <td></td>\n",
       "      <td>58065</td>\n",
       "      <td></td>\n",
       "      <td>Action, Comedy, Horror</td>\n",
       "    </tr>\n",
       "    <tr>\n",
       "      <th>1748</th>\n",
       "      <td>1748</td>\n",
       "      <td>1749</td>\n",
       "      <td>Alone in the Dark</td>\n",
       "      <td>2005</td>\n",
       "      <td>99</td>\n",
       "      <td>2.4</td>\n",
       "      <td>9</td>\n",
       "      <td>46411</td>\n",
       "      <td>5.18</td>\n",
       "      <td>Action, Horror, Sci-Fi</td>\n",
       "    </tr>\n",
       "    <tr>\n",
       "      <th>1749</th>\n",
       "      <td>1749</td>\n",
       "      <td>1750</td>\n",
       "      <td>The Prototype</td>\n",
       "      <td>2022</td>\n",
       "      <td>97</td>\n",
       "      <td>2.4</td>\n",
       "      <td></td>\n",
       "      <td>35697</td>\n",
       "      <td></td>\n",
       "      <td>Action, Sci-Fi, Thriller</td>\n",
       "    </tr>\n",
       "  </tbody>\n",
       "</table>\n",
       "<p>1750 rows × 10 columns</p>\n",
       "</div>"
      ],
      "text/plain": [
       "      Unnamed: 0  Serial Number  \\\n",
       "0              0              1   \n",
       "1              1              2   \n",
       "2              2              3   \n",
       "3              3              4   \n",
       "4              4              5   \n",
       "...          ...            ...   \n",
       "1745        1745           1746   \n",
       "1746        1746           1747   \n",
       "1747        1747           1748   \n",
       "1748        1748           1749   \n",
       "1749        1749           1750   \n",
       "\n",
       "                                             Movie Name  Year  \\\n",
       "0                   Spider-Man: Across the Spider-Verse  2023   \n",
       "1                                       The Dark Knight  2008   \n",
       "2         The Lord of the Rings: The Return of the King  2003   \n",
       "3                                             Inception  2010   \n",
       "4     The Lord of the Rings: The Fellowship of the Ring  2001   \n",
       "...                                                 ...   ...   \n",
       "1745                                  Battlefield Earth  2000   \n",
       "1746                                        Heropanti 2  2022   \n",
       "1747                                             Laxmii  2020   \n",
       "1748                                  Alone in the Dark  2005   \n",
       "1749                                      The Prototype  2022   \n",
       "\n",
       "      Duration(In Minutes)  Ratings   MetaScore    Votes  \\\n",
       "0                      140      9.0  86           134907   \n",
       "1                      152      9.0  84          2726811   \n",
       "2                      201      9.0  94          1891761   \n",
       "3                      148      8.8  74          2420044   \n",
       "4                      178      8.8  92          1920309   \n",
       "...                    ...      ...         ...      ...   \n",
       "1745                   118      2.5   9            81710   \n",
       "1746                   145      2.5                27012   \n",
       "1747                   141      2.5                58065   \n",
       "1748                    99      2.4   9            46411   \n",
       "1749                    97      2.4                35697   \n",
       "\n",
       "     Gross_Collection(In Million Dollars)  \\\n",
       "0                                           \n",
       "1                                  534.86   \n",
       "2                                  377.85   \n",
       "3                                  292.58   \n",
       "4                                  315.54   \n",
       "...                                   ...   \n",
       "1745                                21.47   \n",
       "1746                                        \n",
       "1747                                        \n",
       "1748                                 5.18   \n",
       "1749                                        \n",
       "\n",
       "                                         Genre  \n",
       "0     Animation, Action, Adventure              \n",
       "1             Action, Crime, Drama              \n",
       "2         Action, Adventure, Drama              \n",
       "3        Action, Adventure, Sci-Fi              \n",
       "4         Action, Adventure, Drama              \n",
       "...                                        ...  \n",
       "1745     Action, Adventure, Sci-Fi              \n",
       "1746         Action, Comedy, Crime              \n",
       "1747        Action, Comedy, Horror              \n",
       "1748        Action, Horror, Sci-Fi              \n",
       "1749      Action, Sci-Fi, Thriller              \n",
       "\n",
       "[1750 rows x 10 columns]"
      ]
     },
     "execution_count": 102,
     "metadata": {},
     "output_type": "execute_result"
    }
   ],
   "source": [
    "df=pd.read_csv(\"imdb_dataset_new.csv\")\n",
    "df"
   ]
  },
  {
   "cell_type": "code",
   "execution_count": 103,
   "id": "a00a8bad",
   "metadata": {},
   "outputs": [],
   "source": [
    "df2 = df.drop(df.columns[0],axis=1)"
   ]
  },
  {
   "cell_type": "code",
   "execution_count": 104,
   "id": "918976ff",
   "metadata": {},
   "outputs": [
    {
     "data": {
      "text/html": [
       "<div>\n",
       "<style scoped>\n",
       "    .dataframe tbody tr th:only-of-type {\n",
       "        vertical-align: middle;\n",
       "    }\n",
       "\n",
       "    .dataframe tbody tr th {\n",
       "        vertical-align: top;\n",
       "    }\n",
       "\n",
       "    .dataframe thead th {\n",
       "        text-align: right;\n",
       "    }\n",
       "</style>\n",
       "<table border=\"1\" class=\"dataframe\">\n",
       "  <thead>\n",
       "    <tr style=\"text-align: right;\">\n",
       "      <th></th>\n",
       "      <th>Serial Number</th>\n",
       "      <th>Movie Name</th>\n",
       "      <th>Year</th>\n",
       "      <th>Duration(In Minutes)</th>\n",
       "      <th>Ratings</th>\n",
       "      <th>MetaScore</th>\n",
       "      <th>Votes</th>\n",
       "      <th>Gross_Collection(In Million Dollars)</th>\n",
       "      <th>Genre</th>\n",
       "    </tr>\n",
       "  </thead>\n",
       "  <tbody>\n",
       "    <tr>\n",
       "      <th>0</th>\n",
       "      <td>1</td>\n",
       "      <td>Spider-Man: Across the Spider-Verse</td>\n",
       "      <td>2023</td>\n",
       "      <td>140</td>\n",
       "      <td>9.0</td>\n",
       "      <td>86</td>\n",
       "      <td>134907</td>\n",
       "      <td></td>\n",
       "      <td>Animation, Action, Adventure</td>\n",
       "    </tr>\n",
       "    <tr>\n",
       "      <th>1</th>\n",
       "      <td>2</td>\n",
       "      <td>The Dark Knight</td>\n",
       "      <td>2008</td>\n",
       "      <td>152</td>\n",
       "      <td>9.0</td>\n",
       "      <td>84</td>\n",
       "      <td>2726811</td>\n",
       "      <td>534.86</td>\n",
       "      <td>Action, Crime, Drama</td>\n",
       "    </tr>\n",
       "    <tr>\n",
       "      <th>2</th>\n",
       "      <td>3</td>\n",
       "      <td>The Lord of the Rings: The Return of the King</td>\n",
       "      <td>2003</td>\n",
       "      <td>201</td>\n",
       "      <td>9.0</td>\n",
       "      <td>94</td>\n",
       "      <td>1891761</td>\n",
       "      <td>377.85</td>\n",
       "      <td>Action, Adventure, Drama</td>\n",
       "    </tr>\n",
       "    <tr>\n",
       "      <th>3</th>\n",
       "      <td>4</td>\n",
       "      <td>Inception</td>\n",
       "      <td>2010</td>\n",
       "      <td>148</td>\n",
       "      <td>8.8</td>\n",
       "      <td>74</td>\n",
       "      <td>2420044</td>\n",
       "      <td>292.58</td>\n",
       "      <td>Action, Adventure, Sci-Fi</td>\n",
       "    </tr>\n",
       "    <tr>\n",
       "      <th>4</th>\n",
       "      <td>5</td>\n",
       "      <td>The Lord of the Rings: The Fellowship of the Ring</td>\n",
       "      <td>2001</td>\n",
       "      <td>178</td>\n",
       "      <td>8.8</td>\n",
       "      <td>92</td>\n",
       "      <td>1920309</td>\n",
       "      <td>315.54</td>\n",
       "      <td>Action, Adventure, Drama</td>\n",
       "    </tr>\n",
       "    <tr>\n",
       "      <th>...</th>\n",
       "      <td>...</td>\n",
       "      <td>...</td>\n",
       "      <td>...</td>\n",
       "      <td>...</td>\n",
       "      <td>...</td>\n",
       "      <td>...</td>\n",
       "      <td>...</td>\n",
       "      <td>...</td>\n",
       "      <td>...</td>\n",
       "    </tr>\n",
       "    <tr>\n",
       "      <th>1745</th>\n",
       "      <td>1746</td>\n",
       "      <td>Battlefield Earth</td>\n",
       "      <td>2000</td>\n",
       "      <td>118</td>\n",
       "      <td>2.5</td>\n",
       "      <td>9</td>\n",
       "      <td>81710</td>\n",
       "      <td>21.47</td>\n",
       "      <td>Action, Adventure, Sci-Fi</td>\n",
       "    </tr>\n",
       "    <tr>\n",
       "      <th>1746</th>\n",
       "      <td>1747</td>\n",
       "      <td>Heropanti 2</td>\n",
       "      <td>2022</td>\n",
       "      <td>145</td>\n",
       "      <td>2.5</td>\n",
       "      <td></td>\n",
       "      <td>27012</td>\n",
       "      <td></td>\n",
       "      <td>Action, Comedy, Crime</td>\n",
       "    </tr>\n",
       "    <tr>\n",
       "      <th>1747</th>\n",
       "      <td>1748</td>\n",
       "      <td>Laxmii</td>\n",
       "      <td>2020</td>\n",
       "      <td>141</td>\n",
       "      <td>2.5</td>\n",
       "      <td></td>\n",
       "      <td>58065</td>\n",
       "      <td></td>\n",
       "      <td>Action, Comedy, Horror</td>\n",
       "    </tr>\n",
       "    <tr>\n",
       "      <th>1748</th>\n",
       "      <td>1749</td>\n",
       "      <td>Alone in the Dark</td>\n",
       "      <td>2005</td>\n",
       "      <td>99</td>\n",
       "      <td>2.4</td>\n",
       "      <td>9</td>\n",
       "      <td>46411</td>\n",
       "      <td>5.18</td>\n",
       "      <td>Action, Horror, Sci-Fi</td>\n",
       "    </tr>\n",
       "    <tr>\n",
       "      <th>1749</th>\n",
       "      <td>1750</td>\n",
       "      <td>The Prototype</td>\n",
       "      <td>2022</td>\n",
       "      <td>97</td>\n",
       "      <td>2.4</td>\n",
       "      <td></td>\n",
       "      <td>35697</td>\n",
       "      <td></td>\n",
       "      <td>Action, Sci-Fi, Thriller</td>\n",
       "    </tr>\n",
       "  </tbody>\n",
       "</table>\n",
       "<p>1750 rows × 9 columns</p>\n",
       "</div>"
      ],
      "text/plain": [
       "      Serial Number                                         Movie Name  Year  \\\n",
       "0                 1                Spider-Man: Across the Spider-Verse  2023   \n",
       "1                 2                                    The Dark Knight  2008   \n",
       "2                 3      The Lord of the Rings: The Return of the King  2003   \n",
       "3                 4                                          Inception  2010   \n",
       "4                 5  The Lord of the Rings: The Fellowship of the Ring  2001   \n",
       "...             ...                                                ...   ...   \n",
       "1745           1746                                  Battlefield Earth  2000   \n",
       "1746           1747                                        Heropanti 2  2022   \n",
       "1747           1748                                             Laxmii  2020   \n",
       "1748           1749                                  Alone in the Dark  2005   \n",
       "1749           1750                                      The Prototype  2022   \n",
       "\n",
       "      Duration(In Minutes)  Ratings   MetaScore    Votes  \\\n",
       "0                      140      9.0  86           134907   \n",
       "1                      152      9.0  84          2726811   \n",
       "2                      201      9.0  94          1891761   \n",
       "3                      148      8.8  74          2420044   \n",
       "4                      178      8.8  92          1920309   \n",
       "...                    ...      ...         ...      ...   \n",
       "1745                   118      2.5   9            81710   \n",
       "1746                   145      2.5                27012   \n",
       "1747                   141      2.5                58065   \n",
       "1748                    99      2.4   9            46411   \n",
       "1749                    97      2.4                35697   \n",
       "\n",
       "     Gross_Collection(In Million Dollars)  \\\n",
       "0                                           \n",
       "1                                  534.86   \n",
       "2                                  377.85   \n",
       "3                                  292.58   \n",
       "4                                  315.54   \n",
       "...                                   ...   \n",
       "1745                                21.47   \n",
       "1746                                        \n",
       "1747                                        \n",
       "1748                                 5.18   \n",
       "1749                                        \n",
       "\n",
       "                                         Genre  \n",
       "0     Animation, Action, Adventure              \n",
       "1             Action, Crime, Drama              \n",
       "2         Action, Adventure, Drama              \n",
       "3        Action, Adventure, Sci-Fi              \n",
       "4         Action, Adventure, Drama              \n",
       "...                                        ...  \n",
       "1745     Action, Adventure, Sci-Fi              \n",
       "1746         Action, Comedy, Crime              \n",
       "1747        Action, Comedy, Horror              \n",
       "1748        Action, Horror, Sci-Fi              \n",
       "1749      Action, Sci-Fi, Thriller              \n",
       "\n",
       "[1750 rows x 9 columns]"
      ]
     },
     "execution_count": 104,
     "metadata": {},
     "output_type": "execute_result"
    }
   ],
   "source": [
    "df2"
   ]
  },
  {
   "cell_type": "code",
   "execution_count": 105,
   "id": "3042d4a0",
   "metadata": {},
   "outputs": [
    {
     "data": {
      "text/html": [
       "<div>\n",
       "<style scoped>\n",
       "    .dataframe tbody tr th:only-of-type {\n",
       "        vertical-align: middle;\n",
       "    }\n",
       "\n",
       "    .dataframe tbody tr th {\n",
       "        vertical-align: top;\n",
       "    }\n",
       "\n",
       "    .dataframe thead th {\n",
       "        text-align: right;\n",
       "    }\n",
       "</style>\n",
       "<table border=\"1\" class=\"dataframe\">\n",
       "  <thead>\n",
       "    <tr style=\"text-align: right;\">\n",
       "      <th></th>\n",
       "      <th>Serial Number</th>\n",
       "      <th>Movie Name</th>\n",
       "      <th>Year</th>\n",
       "      <th>Duration(In Minutes)</th>\n",
       "      <th>Ratings</th>\n",
       "      <th>MetaScore</th>\n",
       "      <th>Votes</th>\n",
       "      <th>Gross_Collection(In Million Dollars)</th>\n",
       "      <th>Genre</th>\n",
       "    </tr>\n",
       "  </thead>\n",
       "  <tbody>\n",
       "    <tr>\n",
       "      <th>0</th>\n",
       "      <td>1</td>\n",
       "      <td>Spider-Man: Across the Spider-Verse</td>\n",
       "      <td>2023</td>\n",
       "      <td>140</td>\n",
       "      <td>9.0</td>\n",
       "      <td>86</td>\n",
       "      <td>134907</td>\n",
       "      <td></td>\n",
       "      <td>Animation, Action, Adventure</td>\n",
       "    </tr>\n",
       "    <tr>\n",
       "      <th>1</th>\n",
       "      <td>2</td>\n",
       "      <td>The Dark Knight</td>\n",
       "      <td>2008</td>\n",
       "      <td>152</td>\n",
       "      <td>9.0</td>\n",
       "      <td>84</td>\n",
       "      <td>2726811</td>\n",
       "      <td>534.86</td>\n",
       "      <td>Action, Crime, Drama</td>\n",
       "    </tr>\n",
       "    <tr>\n",
       "      <th>2</th>\n",
       "      <td>3</td>\n",
       "      <td>The Lord of the Rings: The Return of the King</td>\n",
       "      <td>2003</td>\n",
       "      <td>201</td>\n",
       "      <td>9.0</td>\n",
       "      <td>94</td>\n",
       "      <td>1891761</td>\n",
       "      <td>377.85</td>\n",
       "      <td>Action, Adventure, Drama</td>\n",
       "    </tr>\n",
       "    <tr>\n",
       "      <th>3</th>\n",
       "      <td>4</td>\n",
       "      <td>Inception</td>\n",
       "      <td>2010</td>\n",
       "      <td>148</td>\n",
       "      <td>8.8</td>\n",
       "      <td>74</td>\n",
       "      <td>2420044</td>\n",
       "      <td>292.58</td>\n",
       "      <td>Action, Adventure, Sci-Fi</td>\n",
       "    </tr>\n",
       "    <tr>\n",
       "      <th>4</th>\n",
       "      <td>5</td>\n",
       "      <td>The Lord of the Rings: The Fellowship of the Ring</td>\n",
       "      <td>2001</td>\n",
       "      <td>178</td>\n",
       "      <td>8.8</td>\n",
       "      <td>92</td>\n",
       "      <td>1920309</td>\n",
       "      <td>315.54</td>\n",
       "      <td>Action, Adventure, Drama</td>\n",
       "    </tr>\n",
       "  </tbody>\n",
       "</table>\n",
       "</div>"
      ],
      "text/plain": [
       "   Serial Number                                         Movie Name  Year  \\\n",
       "0              1                Spider-Man: Across the Spider-Verse  2023   \n",
       "1              2                                    The Dark Knight  2008   \n",
       "2              3      The Lord of the Rings: The Return of the King  2003   \n",
       "3              4                                          Inception  2010   \n",
       "4              5  The Lord of the Rings: The Fellowship of the Ring  2001   \n",
       "\n",
       "   Duration(In Minutes)  Ratings   MetaScore    Votes  \\\n",
       "0                   140      9.0  86           134907   \n",
       "1                   152      9.0  84          2726811   \n",
       "2                   201      9.0  94          1891761   \n",
       "3                   148      8.8  74          2420044   \n",
       "4                   178      8.8  92          1920309   \n",
       "\n",
       "  Gross_Collection(In Million Dollars)  \\\n",
       "0                                        \n",
       "1                               534.86   \n",
       "2                               377.85   \n",
       "3                               292.58   \n",
       "4                               315.54   \n",
       "\n",
       "                                      Genre  \n",
       "0  Animation, Action, Adventure              \n",
       "1          Action, Crime, Drama              \n",
       "2      Action, Adventure, Drama              \n",
       "3     Action, Adventure, Sci-Fi              \n",
       "4      Action, Adventure, Drama              "
      ]
     },
     "execution_count": 105,
     "metadata": {},
     "output_type": "execute_result"
    }
   ],
   "source": [
    "#Display the top 5 rows \n",
    "df2.head() "
   ]
  },
  {
   "cell_type": "code",
   "execution_count": 106,
   "id": "6f049bb6",
   "metadata": {},
   "outputs": [
    {
     "data": {
      "text/html": [
       "<div>\n",
       "<style scoped>\n",
       "    .dataframe tbody tr th:only-of-type {\n",
       "        vertical-align: middle;\n",
       "    }\n",
       "\n",
       "    .dataframe tbody tr th {\n",
       "        vertical-align: top;\n",
       "    }\n",
       "\n",
       "    .dataframe thead th {\n",
       "        text-align: right;\n",
       "    }\n",
       "</style>\n",
       "<table border=\"1\" class=\"dataframe\">\n",
       "  <thead>\n",
       "    <tr style=\"text-align: right;\">\n",
       "      <th></th>\n",
       "      <th>Serial Number</th>\n",
       "      <th>Movie Name</th>\n",
       "      <th>Year</th>\n",
       "      <th>Duration(In Minutes)</th>\n",
       "      <th>Ratings</th>\n",
       "      <th>MetaScore</th>\n",
       "      <th>Votes</th>\n",
       "      <th>Gross_Collection(In Million Dollars)</th>\n",
       "      <th>Genre</th>\n",
       "    </tr>\n",
       "  </thead>\n",
       "  <tbody>\n",
       "    <tr>\n",
       "      <th>1745</th>\n",
       "      <td>1746</td>\n",
       "      <td>Battlefield Earth</td>\n",
       "      <td>2000</td>\n",
       "      <td>118</td>\n",
       "      <td>2.5</td>\n",
       "      <td>9</td>\n",
       "      <td>81710</td>\n",
       "      <td>21.47</td>\n",
       "      <td>Action, Adventure, Sci-Fi</td>\n",
       "    </tr>\n",
       "    <tr>\n",
       "      <th>1746</th>\n",
       "      <td>1747</td>\n",
       "      <td>Heropanti 2</td>\n",
       "      <td>2022</td>\n",
       "      <td>145</td>\n",
       "      <td>2.5</td>\n",
       "      <td></td>\n",
       "      <td>27012</td>\n",
       "      <td></td>\n",
       "      <td>Action, Comedy, Crime</td>\n",
       "    </tr>\n",
       "    <tr>\n",
       "      <th>1747</th>\n",
       "      <td>1748</td>\n",
       "      <td>Laxmii</td>\n",
       "      <td>2020</td>\n",
       "      <td>141</td>\n",
       "      <td>2.5</td>\n",
       "      <td></td>\n",
       "      <td>58065</td>\n",
       "      <td></td>\n",
       "      <td>Action, Comedy, Horror</td>\n",
       "    </tr>\n",
       "    <tr>\n",
       "      <th>1748</th>\n",
       "      <td>1749</td>\n",
       "      <td>Alone in the Dark</td>\n",
       "      <td>2005</td>\n",
       "      <td>99</td>\n",
       "      <td>2.4</td>\n",
       "      <td>9</td>\n",
       "      <td>46411</td>\n",
       "      <td>5.18</td>\n",
       "      <td>Action, Horror, Sci-Fi</td>\n",
       "    </tr>\n",
       "    <tr>\n",
       "      <th>1749</th>\n",
       "      <td>1750</td>\n",
       "      <td>The Prototype</td>\n",
       "      <td>2022</td>\n",
       "      <td>97</td>\n",
       "      <td>2.4</td>\n",
       "      <td></td>\n",
       "      <td>35697</td>\n",
       "      <td></td>\n",
       "      <td>Action, Sci-Fi, Thriller</td>\n",
       "    </tr>\n",
       "  </tbody>\n",
       "</table>\n",
       "</div>"
      ],
      "text/plain": [
       "      Serial Number         Movie Name  Year  Duration(In Minutes)  Ratings  \\\n",
       "1745           1746  Battlefield Earth  2000                   118      2.5   \n",
       "1746           1747        Heropanti 2  2022                   145      2.5   \n",
       "1747           1748             Laxmii  2020                   141      2.5   \n",
       "1748           1749  Alone in the Dark  2005                    99      2.4   \n",
       "1749           1750      The Prototype  2022                    97      2.4   \n",
       "\n",
       "      MetaScore  Votes Gross_Collection(In Million Dollars)  \\\n",
       "1745  9          81710                                21.47   \n",
       "1746             27012                                        \n",
       "1747             58065                                        \n",
       "1748  9          46411                                 5.18   \n",
       "1749             35697                                        \n",
       "\n",
       "                                      Genre  \n",
       "1745  Action, Adventure, Sci-Fi              \n",
       "1746      Action, Comedy, Crime              \n",
       "1747     Action, Comedy, Horror              \n",
       "1748     Action, Horror, Sci-Fi              \n",
       "1749   Action, Sci-Fi, Thriller              "
      ]
     },
     "execution_count": 106,
     "metadata": {},
     "output_type": "execute_result"
    }
   ],
   "source": [
    "#display the bottom 5 rows\n",
    "df2.tail()"
   ]
  },
  {
   "cell_type": "code",
   "execution_count": 107,
   "id": "4371e214",
   "metadata": {},
   "outputs": [
    {
     "data": {
      "text/plain": [
       "Index(['Serial Number', 'Movie Name', 'Year', 'Duration(In Minutes)',\n",
       "       'Ratings', 'MetaScore', 'Votes', 'Gross_Collection(In Million Dollars)',\n",
       "       'Genre'],\n",
       "      dtype='object')"
      ]
     },
     "execution_count": 107,
     "metadata": {},
     "output_type": "execute_result"
    }
   ],
   "source": [
    "#Display the columns of the dataset\n",
    "df2.columns"
   ]
  },
  {
   "cell_type": "code",
   "execution_count": 108,
   "id": "ce32da6e",
   "metadata": {},
   "outputs": [
    {
     "data": {
      "text/plain": [
       "(1750, 9)"
      ]
     },
     "execution_count": 108,
     "metadata": {},
     "output_type": "execute_result"
    }
   ],
   "source": [
    "df2.shape"
   ]
  },
  {
   "cell_type": "markdown",
   "id": "04416faa",
   "metadata": {},
   "source": [
    "From the above data we can see that there are 1750 rows and 9 columns"
   ]
  },
  {
   "cell_type": "markdown",
   "id": "4fe00875",
   "metadata": {},
   "source": [
    "# EDA"
   ]
  },
  {
   "cell_type": "code",
   "execution_count": 109,
   "id": "df33ecfd",
   "metadata": {},
   "outputs": [
    {
     "data": {
      "text/plain": [
       "Serial Number                             int64\n",
       "Movie Name                               object\n",
       "Year                                     object\n",
       "Duration(In Minutes)                      int64\n",
       "Ratings                                 float64\n",
       "MetaScore                                object\n",
       "Votes                                     int64\n",
       "Gross_Collection(In Million Dollars)     object\n",
       "Genre                                    object\n",
       "dtype: object"
      ]
     },
     "execution_count": 109,
     "metadata": {},
     "output_type": "execute_result"
    }
   ],
   "source": [
    "df2.dtypes"
   ]
  },
  {
   "cell_type": "code",
   "execution_count": 110,
   "id": "f712c038",
   "metadata": {},
   "outputs": [
    {
     "data": {
      "text/plain": [
       "Serial Number                           0\n",
       "Movie Name                              0\n",
       "Year                                    0\n",
       "Duration(In Minutes)                    0\n",
       "Ratings                                 0\n",
       "MetaScore                               0\n",
       "Votes                                   0\n",
       "Gross_Collection(In Million Dollars)    0\n",
       "Genre                                   0\n",
       "dtype: int64"
      ]
     },
     "execution_count": 110,
     "metadata": {},
     "output_type": "execute_result"
    }
   ],
   "source": [
    "#Check for the null values in the dataset\n",
    "df2.isnull().sum()"
   ]
  },
  {
   "cell_type": "markdown",
   "id": "b58ebfcf",
   "metadata": {},
   "source": [
    "From the above observations we can see that there are some missing values present in the columns : Gross_Collection and MetaScore, since there are blank fileds present, we need to fill it"
   ]
  },
  {
   "cell_type": "code",
   "execution_count": 111,
   "id": "2de32a27",
   "metadata": {},
   "outputs": [
    {
     "data": {
      "text/html": [
       "<div>\n",
       "<style scoped>\n",
       "    .dataframe tbody tr th:only-of-type {\n",
       "        vertical-align: middle;\n",
       "    }\n",
       "\n",
       "    .dataframe tbody tr th {\n",
       "        vertical-align: top;\n",
       "    }\n",
       "\n",
       "    .dataframe thead th {\n",
       "        text-align: right;\n",
       "    }\n",
       "</style>\n",
       "<table border=\"1\" class=\"dataframe\">\n",
       "  <thead>\n",
       "    <tr style=\"text-align: right;\">\n",
       "      <th></th>\n",
       "      <th>Serial Number</th>\n",
       "      <th>Movie Name</th>\n",
       "      <th>Year</th>\n",
       "      <th>Duration(In Minutes)</th>\n",
       "      <th>Ratings</th>\n",
       "      <th>MetaScore</th>\n",
       "      <th>Votes</th>\n",
       "      <th>Gross_Collection(In Million Dollars)</th>\n",
       "      <th>Genre</th>\n",
       "    </tr>\n",
       "  </thead>\n",
       "  <tbody>\n",
       "  </tbody>\n",
       "</table>\n",
       "</div>"
      ],
      "text/plain": [
       "Empty DataFrame\n",
       "Columns: [Serial Number, Movie Name, Year, Duration(In Minutes), Ratings, MetaScore, Votes, Gross_Collection(In Million Dollars), Genre]\n",
       "Index: []"
      ]
     },
     "execution_count": 111,
     "metadata": {},
     "output_type": "execute_result"
    }
   ],
   "source": [
    " #Check whether whitespaces are present\n",
    "df2.loc[df2['Year']==' ']"
   ]
  },
  {
   "cell_type": "markdown",
   "id": "41bb8862",
   "metadata": {},
   "source": [
    "From the above result we can see that there are no empty space present in 'year' column"
   ]
  },
  {
   "cell_type": "code",
   "execution_count": 112,
   "id": "403d51fa",
   "metadata": {
    "scrolled": true
   },
   "outputs": [
    {
     "data": {
      "text/html": [
       "<div>\n",
       "<style scoped>\n",
       "    .dataframe tbody tr th:only-of-type {\n",
       "        vertical-align: middle;\n",
       "    }\n",
       "\n",
       "    .dataframe tbody tr th {\n",
       "        vertical-align: top;\n",
       "    }\n",
       "\n",
       "    .dataframe thead th {\n",
       "        text-align: right;\n",
       "    }\n",
       "</style>\n",
       "<table border=\"1\" class=\"dataframe\">\n",
       "  <thead>\n",
       "    <tr style=\"text-align: right;\">\n",
       "      <th></th>\n",
       "      <th>Serial Number</th>\n",
       "      <th>Movie Name</th>\n",
       "      <th>Year</th>\n",
       "      <th>Duration(In Minutes)</th>\n",
       "      <th>Ratings</th>\n",
       "      <th>MetaScore</th>\n",
       "      <th>Votes</th>\n",
       "      <th>Gross_Collection(In Million Dollars)</th>\n",
       "      <th>Genre</th>\n",
       "    </tr>\n",
       "  </thead>\n",
       "  <tbody>\n",
       "    <tr>\n",
       "      <th>0</th>\n",
       "      <td>1</td>\n",
       "      <td>Spider-Man: Across the Spider-Verse</td>\n",
       "      <td>2023</td>\n",
       "      <td>140</td>\n",
       "      <td>9.0</td>\n",
       "      <td>86</td>\n",
       "      <td>134907</td>\n",
       "      <td></td>\n",
       "      <td>Animation, Action, Adventure</td>\n",
       "    </tr>\n",
       "    <tr>\n",
       "      <th>8</th>\n",
       "      <td>9</td>\n",
       "      <td>Soorarai Pottru</td>\n",
       "      <td>2020</td>\n",
       "      <td>153</td>\n",
       "      <td>8.7</td>\n",
       "      <td></td>\n",
       "      <td>119684</td>\n",
       "      <td></td>\n",
       "      <td>Action, Drama</td>\n",
       "    </tr>\n",
       "    <tr>\n",
       "      <th>12</th>\n",
       "      <td>13</td>\n",
       "      <td>Seppuku</td>\n",
       "      <td>1962</td>\n",
       "      <td>133</td>\n",
       "      <td>8.6</td>\n",
       "      <td>85</td>\n",
       "      <td>61350</td>\n",
       "      <td></td>\n",
       "      <td>Action, Drama, Mystery</td>\n",
       "    </tr>\n",
       "    <tr>\n",
       "      <th>13</th>\n",
       "      <td>14</td>\n",
       "      <td>Sita Ramam</td>\n",
       "      <td>2022</td>\n",
       "      <td>163</td>\n",
       "      <td>8.6</td>\n",
       "      <td></td>\n",
       "      <td>60546</td>\n",
       "      <td></td>\n",
       "      <td>Action, Drama, Mystery</td>\n",
       "    </tr>\n",
       "    <tr>\n",
       "      <th>23</th>\n",
       "      <td>24</td>\n",
       "      <td>Kaithi</td>\n",
       "      <td>2019</td>\n",
       "      <td>145</td>\n",
       "      <td>8.4</td>\n",
       "      <td></td>\n",
       "      <td>36375</td>\n",
       "      <td></td>\n",
       "      <td>Action, Adventure, Crime</td>\n",
       "    </tr>\n",
       "    <tr>\n",
       "      <th>...</th>\n",
       "      <td>...</td>\n",
       "      <td>...</td>\n",
       "      <td>...</td>\n",
       "      <td>...</td>\n",
       "      <td>...</td>\n",
       "      <td>...</td>\n",
       "      <td>...</td>\n",
       "      <td>...</td>\n",
       "      <td>...</td>\n",
       "    </tr>\n",
       "    <tr>\n",
       "      <th>1742</th>\n",
       "      <td>1743</td>\n",
       "      <td>Liger</td>\n",
       "      <td>2022</td>\n",
       "      <td>140</td>\n",
       "      <td>2.7</td>\n",
       "      <td></td>\n",
       "      <td>46727</td>\n",
       "      <td></td>\n",
       "      <td>Action, Drama, Romance</td>\n",
       "    </tr>\n",
       "    <tr>\n",
       "      <th>1743</th>\n",
       "      <td>1744</td>\n",
       "      <td>Gunday</td>\n",
       "      <td>2014</td>\n",
       "      <td>152</td>\n",
       "      <td>2.7</td>\n",
       "      <td></td>\n",
       "      <td>59788</td>\n",
       "      <td></td>\n",
       "      <td>Action, Drama, Musical</td>\n",
       "    </tr>\n",
       "    <tr>\n",
       "      <th>1746</th>\n",
       "      <td>1747</td>\n",
       "      <td>Heropanti 2</td>\n",
       "      <td>2022</td>\n",
       "      <td>145</td>\n",
       "      <td>2.5</td>\n",
       "      <td></td>\n",
       "      <td>27012</td>\n",
       "      <td></td>\n",
       "      <td>Action, Comedy, Crime</td>\n",
       "    </tr>\n",
       "    <tr>\n",
       "      <th>1747</th>\n",
       "      <td>1748</td>\n",
       "      <td>Laxmii</td>\n",
       "      <td>2020</td>\n",
       "      <td>141</td>\n",
       "      <td>2.5</td>\n",
       "      <td></td>\n",
       "      <td>58065</td>\n",
       "      <td></td>\n",
       "      <td>Action, Comedy, Horror</td>\n",
       "    </tr>\n",
       "    <tr>\n",
       "      <th>1749</th>\n",
       "      <td>1750</td>\n",
       "      <td>The Prototype</td>\n",
       "      <td>2022</td>\n",
       "      <td>97</td>\n",
       "      <td>2.4</td>\n",
       "      <td></td>\n",
       "      <td>35697</td>\n",
       "      <td></td>\n",
       "      <td>Action, Sci-Fi, Thriller</td>\n",
       "    </tr>\n",
       "  </tbody>\n",
       "</table>\n",
       "<p>279 rows × 9 columns</p>\n",
       "</div>"
      ],
      "text/plain": [
       "      Serial Number                           Movie Name  Year  \\\n",
       "0                 1  Spider-Man: Across the Spider-Verse  2023   \n",
       "8                 9                      Soorarai Pottru  2020   \n",
       "12               13                              Seppuku  1962   \n",
       "13               14                           Sita Ramam  2022   \n",
       "23               24                               Kaithi  2019   \n",
       "...             ...                                  ...   ...   \n",
       "1742           1743                                Liger  2022   \n",
       "1743           1744                               Gunday  2014   \n",
       "1746           1747                          Heropanti 2  2022   \n",
       "1747           1748                               Laxmii  2020   \n",
       "1749           1750                        The Prototype  2022   \n",
       "\n",
       "      Duration(In Minutes)  Ratings   MetaScore   Votes  \\\n",
       "0                      140      9.0  86          134907   \n",
       "8                      153      8.7              119684   \n",
       "12                     133      8.6  85           61350   \n",
       "13                     163      8.6               60546   \n",
       "23                     145      8.4               36375   \n",
       "...                    ...      ...         ...     ...   \n",
       "1742                   140      2.7               46727   \n",
       "1743                   152      2.7               59788   \n",
       "1746                   145      2.5               27012   \n",
       "1747                   141      2.5               58065   \n",
       "1749                    97      2.4               35697   \n",
       "\n",
       "     Gross_Collection(In Million Dollars)  \\\n",
       "0                                           \n",
       "8                                           \n",
       "12                                          \n",
       "13                                          \n",
       "23                                          \n",
       "...                                   ...   \n",
       "1742                                        \n",
       "1743                                        \n",
       "1746                                        \n",
       "1747                                        \n",
       "1749                                        \n",
       "\n",
       "                                         Genre  \n",
       "0     Animation, Action, Adventure              \n",
       "8                    Action, Drama              \n",
       "12          Action, Drama, Mystery              \n",
       "13          Action, Drama, Mystery              \n",
       "23        Action, Adventure, Crime              \n",
       "...                                        ...  \n",
       "1742        Action, Drama, Romance              \n",
       "1743        Action, Drama, Musical              \n",
       "1746         Action, Comedy, Crime              \n",
       "1747        Action, Comedy, Horror              \n",
       "1749      Action, Sci-Fi, Thriller              \n",
       "\n",
       "[279 rows x 9 columns]"
      ]
     },
     "execution_count": 112,
     "metadata": {},
     "output_type": "execute_result"
    }
   ],
   "source": [
    "df2.loc[df2['Gross_Collection(In Million Dollars)']==' ']"
   ]
  },
  {
   "cell_type": "markdown",
   "id": "5eefc571",
   "metadata": {},
   "source": [
    "From the above result we can see that blank space are present for 279 rows for the column 'Gross_Collection(In Million Dollars)'"
   ]
  },
  {
   "cell_type": "code",
   "execution_count": 113,
   "id": "54017424",
   "metadata": {},
   "outputs": [
    {
     "data": {
      "text/html": [
       "<div>\n",
       "<style scoped>\n",
       "    .dataframe tbody tr th:only-of-type {\n",
       "        vertical-align: middle;\n",
       "    }\n",
       "\n",
       "    .dataframe tbody tr th {\n",
       "        vertical-align: top;\n",
       "    }\n",
       "\n",
       "    .dataframe thead th {\n",
       "        text-align: right;\n",
       "    }\n",
       "</style>\n",
       "<table border=\"1\" class=\"dataframe\">\n",
       "  <thead>\n",
       "    <tr style=\"text-align: right;\">\n",
       "      <th></th>\n",
       "      <th>Serial Number</th>\n",
       "      <th>Movie Name</th>\n",
       "      <th>Year</th>\n",
       "      <th>Duration(In Minutes)</th>\n",
       "      <th>Ratings</th>\n",
       "      <th>MetaScore</th>\n",
       "      <th>Votes</th>\n",
       "      <th>Gross_Collection(In Million Dollars)</th>\n",
       "      <th>Genre</th>\n",
       "    </tr>\n",
       "  </thead>\n",
       "  <tbody>\n",
       "    <tr>\n",
       "      <th>8</th>\n",
       "      <td>9</td>\n",
       "      <td>Soorarai Pottru</td>\n",
       "      <td>2020</td>\n",
       "      <td>153</td>\n",
       "      <td>8.7</td>\n",
       "      <td></td>\n",
       "      <td>119684</td>\n",
       "      <td></td>\n",
       "      <td>Action, Drama</td>\n",
       "    </tr>\n",
       "    <tr>\n",
       "      <th>13</th>\n",
       "      <td>14</td>\n",
       "      <td>Sita Ramam</td>\n",
       "      <td>2022</td>\n",
       "      <td>163</td>\n",
       "      <td>8.6</td>\n",
       "      <td></td>\n",
       "      <td>60546</td>\n",
       "      <td></td>\n",
       "      <td>Action, Drama, Mystery</td>\n",
       "    </tr>\n",
       "    <tr>\n",
       "      <th>23</th>\n",
       "      <td>24</td>\n",
       "      <td>Kaithi</td>\n",
       "      <td>2019</td>\n",
       "      <td>145</td>\n",
       "      <td>8.4</td>\n",
       "      <td></td>\n",
       "      <td>36375</td>\n",
       "      <td></td>\n",
       "      <td>Action, Adventure, Crime</td>\n",
       "    </tr>\n",
       "    <tr>\n",
       "      <th>24</th>\n",
       "      <td>25</td>\n",
       "      <td>Asuran</td>\n",
       "      <td>2019</td>\n",
       "      <td>141</td>\n",
       "      <td>8.4</td>\n",
       "      <td></td>\n",
       "      <td>31301</td>\n",
       "      <td></td>\n",
       "      <td>Action, Drama</td>\n",
       "    </tr>\n",
       "    <tr>\n",
       "      <th>30</th>\n",
       "      <td>31</td>\n",
       "      <td>Kantara</td>\n",
       "      <td>2022</td>\n",
       "      <td>148</td>\n",
       "      <td>8.3</td>\n",
       "      <td></td>\n",
       "      <td>96014</td>\n",
       "      <td></td>\n",
       "      <td>Action, Adventure, Drama</td>\n",
       "    </tr>\n",
       "    <tr>\n",
       "      <th>...</th>\n",
       "      <td>...</td>\n",
       "      <td>...</td>\n",
       "      <td>...</td>\n",
       "      <td>...</td>\n",
       "      <td>...</td>\n",
       "      <td>...</td>\n",
       "      <td>...</td>\n",
       "      <td>...</td>\n",
       "      <td>...</td>\n",
       "    </tr>\n",
       "    <tr>\n",
       "      <th>1742</th>\n",
       "      <td>1743</td>\n",
       "      <td>Liger</td>\n",
       "      <td>2022</td>\n",
       "      <td>140</td>\n",
       "      <td>2.7</td>\n",
       "      <td></td>\n",
       "      <td>46727</td>\n",
       "      <td></td>\n",
       "      <td>Action, Drama, Romance</td>\n",
       "    </tr>\n",
       "    <tr>\n",
       "      <th>1743</th>\n",
       "      <td>1744</td>\n",
       "      <td>Gunday</td>\n",
       "      <td>2014</td>\n",
       "      <td>152</td>\n",
       "      <td>2.7</td>\n",
       "      <td></td>\n",
       "      <td>59788</td>\n",
       "      <td></td>\n",
       "      <td>Action, Drama, Musical</td>\n",
       "    </tr>\n",
       "    <tr>\n",
       "      <th>1746</th>\n",
       "      <td>1747</td>\n",
       "      <td>Heropanti 2</td>\n",
       "      <td>2022</td>\n",
       "      <td>145</td>\n",
       "      <td>2.5</td>\n",
       "      <td></td>\n",
       "      <td>27012</td>\n",
       "      <td></td>\n",
       "      <td>Action, Comedy, Crime</td>\n",
       "    </tr>\n",
       "    <tr>\n",
       "      <th>1747</th>\n",
       "      <td>1748</td>\n",
       "      <td>Laxmii</td>\n",
       "      <td>2020</td>\n",
       "      <td>141</td>\n",
       "      <td>2.5</td>\n",
       "      <td></td>\n",
       "      <td>58065</td>\n",
       "      <td></td>\n",
       "      <td>Action, Comedy, Horror</td>\n",
       "    </tr>\n",
       "    <tr>\n",
       "      <th>1749</th>\n",
       "      <td>1750</td>\n",
       "      <td>The Prototype</td>\n",
       "      <td>2022</td>\n",
       "      <td>97</td>\n",
       "      <td>2.4</td>\n",
       "      <td></td>\n",
       "      <td>35697</td>\n",
       "      <td></td>\n",
       "      <td>Action, Sci-Fi, Thriller</td>\n",
       "    </tr>\n",
       "  </tbody>\n",
       "</table>\n",
       "<p>180 rows × 9 columns</p>\n",
       "</div>"
      ],
      "text/plain": [
       "      Serial Number       Movie Name  Year  Duration(In Minutes)  Ratings  \\\n",
       "8                 9  Soorarai Pottru  2020                   153      8.7   \n",
       "13               14       Sita Ramam  2022                   163      8.6   \n",
       "23               24           Kaithi  2019                   145      8.4   \n",
       "24               25           Asuran  2019                   141      8.4   \n",
       "30               31          Kantara  2022                   148      8.3   \n",
       "...             ...              ...   ...                   ...      ...   \n",
       "1742           1743            Liger  2022                   140      2.7   \n",
       "1743           1744           Gunday  2014                   152      2.7   \n",
       "1746           1747      Heropanti 2  2022                   145      2.5   \n",
       "1747           1748           Laxmii  2020                   141      2.5   \n",
       "1749           1750    The Prototype  2022                    97      2.4   \n",
       "\n",
       "     MetaScore   Votes Gross_Collection(In Million Dollars)  \\\n",
       "8               119684                                        \n",
       "13               60546                                        \n",
       "23               36375                                        \n",
       "24               31301                                        \n",
       "30               96014                                        \n",
       "...        ...     ...                                  ...   \n",
       "1742             46727                                        \n",
       "1743             59788                                        \n",
       "1746             27012                                        \n",
       "1747             58065                                        \n",
       "1749             35697                                        \n",
       "\n",
       "                                     Genre  \n",
       "8                Action, Drama              \n",
       "13      Action, Drama, Mystery              \n",
       "23    Action, Adventure, Crime              \n",
       "24               Action, Drama              \n",
       "30    Action, Adventure, Drama              \n",
       "...                                    ...  \n",
       "1742    Action, Drama, Romance              \n",
       "1743    Action, Drama, Musical              \n",
       "1746     Action, Comedy, Crime              \n",
       "1747    Action, Comedy, Horror              \n",
       "1749  Action, Sci-Fi, Thriller              \n",
       "\n",
       "[180 rows x 9 columns]"
      ]
     },
     "execution_count": 113,
     "metadata": {},
     "output_type": "execute_result"
    }
   ],
   "source": [
    "df2.loc[df2['MetaScore']==' ']"
   ]
  },
  {
   "cell_type": "markdown",
   "id": "684ca082",
   "metadata": {},
   "source": [
    "From the above result we can see that blank space are present for 180 rows for the column 'MetaScore'"
   ]
  },
  {
   "cell_type": "code",
   "execution_count": 114,
   "id": "d60aced6",
   "metadata": {},
   "outputs": [
    {
     "data": {
      "text/html": [
       "<div>\n",
       "<style scoped>\n",
       "    .dataframe tbody tr th:only-of-type {\n",
       "        vertical-align: middle;\n",
       "    }\n",
       "\n",
       "    .dataframe tbody tr th {\n",
       "        vertical-align: top;\n",
       "    }\n",
       "\n",
       "    .dataframe thead th {\n",
       "        text-align: right;\n",
       "    }\n",
       "</style>\n",
       "<table border=\"1\" class=\"dataframe\">\n",
       "  <thead>\n",
       "    <tr style=\"text-align: right;\">\n",
       "      <th></th>\n",
       "      <th>Serial Number</th>\n",
       "      <th>Movie Name</th>\n",
       "      <th>Year</th>\n",
       "      <th>Duration(In Minutes)</th>\n",
       "      <th>Ratings</th>\n",
       "      <th>MetaScore</th>\n",
       "      <th>Votes</th>\n",
       "      <th>Gross_Collection(In Million Dollars)</th>\n",
       "      <th>Genre</th>\n",
       "    </tr>\n",
       "  </thead>\n",
       "  <tbody>\n",
       "  </tbody>\n",
       "</table>\n",
       "</div>"
      ],
      "text/plain": [
       "Empty DataFrame\n",
       "Columns: [Serial Number, Movie Name, Year, Duration(In Minutes), Ratings, MetaScore, Votes, Gross_Collection(In Million Dollars), Genre]\n",
       "Index: []"
      ]
     },
     "execution_count": 114,
     "metadata": {},
     "output_type": "execute_result"
    }
   ],
   "source": [
    "df2.loc[df2['Genre']==' ']"
   ]
  },
  {
   "cell_type": "code",
   "execution_count": 115,
   "id": "e3ecec7a",
   "metadata": {},
   "outputs": [
    {
     "data": {
      "text/html": [
       "<div>\n",
       "<style scoped>\n",
       "    .dataframe tbody tr th:only-of-type {\n",
       "        vertical-align: middle;\n",
       "    }\n",
       "\n",
       "    .dataframe tbody tr th {\n",
       "        vertical-align: top;\n",
       "    }\n",
       "\n",
       "    .dataframe thead th {\n",
       "        text-align: right;\n",
       "    }\n",
       "</style>\n",
       "<table border=\"1\" class=\"dataframe\">\n",
       "  <thead>\n",
       "    <tr style=\"text-align: right;\">\n",
       "      <th></th>\n",
       "      <th>Serial Number</th>\n",
       "      <th>Movie Name</th>\n",
       "      <th>Year</th>\n",
       "      <th>Duration(In Minutes)</th>\n",
       "      <th>Ratings</th>\n",
       "      <th>MetaScore</th>\n",
       "      <th>Votes</th>\n",
       "      <th>Gross_Collection(In Million Dollars)</th>\n",
       "      <th>Genre</th>\n",
       "    </tr>\n",
       "  </thead>\n",
       "  <tbody>\n",
       "  </tbody>\n",
       "</table>\n",
       "</div>"
      ],
      "text/plain": [
       "Empty DataFrame\n",
       "Columns: [Serial Number, Movie Name, Year, Duration(In Minutes), Ratings, MetaScore, Votes, Gross_Collection(In Million Dollars), Genre]\n",
       "Index: []"
      ]
     },
     "execution_count": 115,
     "metadata": {},
     "output_type": "execute_result"
    }
   ],
   "source": [
    "df2.loc[df2['Ratings']==' ']"
   ]
  },
  {
   "cell_type": "markdown",
   "id": "88fe2dc1",
   "metadata": {},
   "source": [
    "The above result shows that there are no empty space for the columns 'Genre' and 'Ratings'"
   ]
  },
  {
   "cell_type": "code",
   "execution_count": 116,
   "id": "fa83ecc1",
   "metadata": {},
   "outputs": [
    {
     "data": {
      "text/plain": [
       "<function pandas.core.tools.numeric.to_numeric(arg, errors='raise', downcast=None)>"
      ]
     },
     "execution_count": 116,
     "metadata": {},
     "output_type": "execute_result"
    }
   ],
   "source": [
    "#Change the datatype for the columns 'Year'\n",
    "pd.to_numeric "
   ]
  },
  {
   "cell_type": "code",
   "execution_count": 117,
   "id": "c0b6cf05",
   "metadata": {},
   "outputs": [],
   "source": [
    "#Replace the whitespaces with nan(null) values\n",
    "df2['Gross_Collection(In Million Dollars)']=df2['Gross_Collection(In Million Dollars)'].replace(\" \",np.nan)"
   ]
  },
  {
   "cell_type": "code",
   "execution_count": 118,
   "id": "01bda29f",
   "metadata": {},
   "outputs": [],
   "source": [
    "df2['MetaScore']=df2['MetaScore'].replace(\" \",np.nan)"
   ]
  },
  {
   "cell_type": "code",
   "execution_count": 119,
   "id": "ef485905",
   "metadata": {},
   "outputs": [
    {
     "data": {
      "text/plain": [
       "Serial Number                             0\n",
       "Movie Name                                0\n",
       "Year                                      0\n",
       "Duration(In Minutes)                      0\n",
       "Ratings                                   0\n",
       "MetaScore                               180\n",
       "Votes                                     0\n",
       "Gross_Collection(In Million Dollars)    279\n",
       "Genre                                     0\n",
       "dtype: int64"
      ]
     },
     "execution_count": 119,
     "metadata": {},
     "output_type": "execute_result"
    }
   ],
   "source": [
    "df2.isnull().sum()"
   ]
  },
  {
   "cell_type": "code",
   "execution_count": 120,
   "id": "635c89b5",
   "metadata": {},
   "outputs": [
    {
     "data": {
      "text/plain": [
       "<AxesSubplot:>"
      ]
     },
     "execution_count": 120,
     "metadata": {},
     "output_type": "execute_result"
    },
    {
     "data": {
      "image/png": "[encoded data removed]",
      "text/plain": [
       "<Figure size 432x288 with 2 Axes>"
      ]
     },
     "metadata": {
      "needs_background": "light"
     },
     "output_type": "display_data"
    }
   ],
   "source": [
    "sns.heatmap(df2.isnull())"
   ]
  },
  {
   "cell_type": "markdown",
   "id": "d1d1c726",
   "metadata": {},
   "source": [
    "From the above result we can now see that null values are present for 'MetaScore' and 'Gross_Collection(In Million Dollars)' columns. Also we need to change the datatype of 'Gross_Collection(In Million Dollars)' column from object type to float type"
   ]
  },
  {
   "cell_type": "code",
   "execution_count": 121,
   "id": "a142665f",
   "metadata": {},
   "outputs": [],
   "source": [
    "#Convert the 'Gross_Collection(In Million Dollars)' column from object type to float type\n",
    "df2['Gross_Collection(In Million Dollars)']=df2['Gross_Collection(In Million Dollars)'].astype(float)"
   ]
  },
  {
   "cell_type": "code",
   "execution_count": 122,
   "id": "dc49da65",
   "metadata": {},
   "outputs": [
    {
     "data": {
      "text/plain": [
       "Serial Number                             int64\n",
       "Movie Name                               object\n",
       "Year                                     object\n",
       "Duration(In Minutes)                      int64\n",
       "Ratings                                 float64\n",
       "MetaScore                                object\n",
       "Votes                                     int64\n",
       "Gross_Collection(In Million Dollars)    float64\n",
       "Genre                                    object\n",
       "dtype: object"
      ]
     },
     "execution_count": 122,
     "metadata": {},
     "output_type": "execute_result"
    }
   ],
   "source": [
    "df2.dtypes"
   ]
  },
  {
   "cell_type": "code",
   "execution_count": 123,
   "id": "480ed920",
   "metadata": {},
   "outputs": [
    {
     "data": {
      "text/html": [
       "<div>\n",
       "<style scoped>\n",
       "    .dataframe tbody tr th:only-of-type {\n",
       "        vertical-align: middle;\n",
       "    }\n",
       "\n",
       "    .dataframe tbody tr th {\n",
       "        vertical-align: top;\n",
       "    }\n",
       "\n",
       "    .dataframe thead th {\n",
       "        text-align: right;\n",
       "    }\n",
       "</style>\n",
       "<table border=\"1\" class=\"dataframe\">\n",
       "  <thead>\n",
       "    <tr style=\"text-align: right;\">\n",
       "      <th></th>\n",
       "      <th>Serial Number</th>\n",
       "      <th>Movie Name</th>\n",
       "      <th>Year</th>\n",
       "      <th>Duration(In Minutes)</th>\n",
       "      <th>Ratings</th>\n",
       "      <th>MetaScore</th>\n",
       "      <th>Votes</th>\n",
       "      <th>Gross_Collection(In Million Dollars)</th>\n",
       "      <th>Genre</th>\n",
       "    </tr>\n",
       "  </thead>\n",
       "  <tbody>\n",
       "    <tr>\n",
       "      <th>0</th>\n",
       "      <td>1</td>\n",
       "      <td>Spider-Man: Across the Spider-Verse</td>\n",
       "      <td>2023</td>\n",
       "      <td>140</td>\n",
       "      <td>9.0</td>\n",
       "      <td>86</td>\n",
       "      <td>134907</td>\n",
       "      <td>NaN</td>\n",
       "      <td>Animation, Action, Adventure</td>\n",
       "    </tr>\n",
       "    <tr>\n",
       "      <th>1</th>\n",
       "      <td>2</td>\n",
       "      <td>The Dark Knight</td>\n",
       "      <td>2008</td>\n",
       "      <td>152</td>\n",
       "      <td>9.0</td>\n",
       "      <td>84</td>\n",
       "      <td>2726811</td>\n",
       "      <td>534.86</td>\n",
       "      <td>Action, Crime, Drama</td>\n",
       "    </tr>\n",
       "    <tr>\n",
       "      <th>2</th>\n",
       "      <td>3</td>\n",
       "      <td>The Lord of the Rings: The Return of the King</td>\n",
       "      <td>2003</td>\n",
       "      <td>201</td>\n",
       "      <td>9.0</td>\n",
       "      <td>94</td>\n",
       "      <td>1891761</td>\n",
       "      <td>377.85</td>\n",
       "      <td>Action, Adventure, Drama</td>\n",
       "    </tr>\n",
       "    <tr>\n",
       "      <th>3</th>\n",
       "      <td>4</td>\n",
       "      <td>Inception</td>\n",
       "      <td>2010</td>\n",
       "      <td>148</td>\n",
       "      <td>8.8</td>\n",
       "      <td>74</td>\n",
       "      <td>2420044</td>\n",
       "      <td>292.58</td>\n",
       "      <td>Action, Adventure, Sci-Fi</td>\n",
       "    </tr>\n",
       "    <tr>\n",
       "      <th>4</th>\n",
       "      <td>5</td>\n",
       "      <td>The Lord of the Rings: The Fellowship of the Ring</td>\n",
       "      <td>2001</td>\n",
       "      <td>178</td>\n",
       "      <td>8.8</td>\n",
       "      <td>92</td>\n",
       "      <td>1920309</td>\n",
       "      <td>315.54</td>\n",
       "      <td>Action, Adventure, Drama</td>\n",
       "    </tr>\n",
       "    <tr>\n",
       "      <th>5</th>\n",
       "      <td>6</td>\n",
       "      <td>The Lord of the Rings: The Two Towers</td>\n",
       "      <td>2002</td>\n",
       "      <td>179</td>\n",
       "      <td>8.8</td>\n",
       "      <td>87</td>\n",
       "      <td>1707326</td>\n",
       "      <td>342.55</td>\n",
       "      <td>Action, Adventure, Drama</td>\n",
       "    </tr>\n",
       "    <tr>\n",
       "      <th>6</th>\n",
       "      <td>7</td>\n",
       "      <td>The Matrix</td>\n",
       "      <td>1999</td>\n",
       "      <td>136</td>\n",
       "      <td>8.7</td>\n",
       "      <td>73</td>\n",
       "      <td>1963039</td>\n",
       "      <td>171.48</td>\n",
       "      <td>Action, Sci-Fi</td>\n",
       "    </tr>\n",
       "    <tr>\n",
       "      <th>7</th>\n",
       "      <td>8</td>\n",
       "      <td>Star Wars: Episode V - The Empire Strikes Back</td>\n",
       "      <td>1980</td>\n",
       "      <td>124</td>\n",
       "      <td>8.7</td>\n",
       "      <td>82</td>\n",
       "      <td>1324506</td>\n",
       "      <td>290.48</td>\n",
       "      <td>Action, Adventure, Fantasy</td>\n",
       "    </tr>\n",
       "    <tr>\n",
       "      <th>8</th>\n",
       "      <td>9</td>\n",
       "      <td>Soorarai Pottru</td>\n",
       "      <td>2020</td>\n",
       "      <td>153</td>\n",
       "      <td>8.7</td>\n",
       "      <td>NaN</td>\n",
       "      <td>119684</td>\n",
       "      <td>NaN</td>\n",
       "      <td>Action, Drama</td>\n",
       "    </tr>\n",
       "    <tr>\n",
       "      <th>9</th>\n",
       "      <td>10</td>\n",
       "      <td>Terminator 2: Judgment Day</td>\n",
       "      <td>1991</td>\n",
       "      <td>137</td>\n",
       "      <td>8.6</td>\n",
       "      <td>75</td>\n",
       "      <td>1126076</td>\n",
       "      <td>204.84</td>\n",
       "      <td>Action, Sci-Fi</td>\n",
       "    </tr>\n",
       "  </tbody>\n",
       "</table>\n",
       "</div>"
      ],
      "text/plain": [
       "   Serial Number                                         Movie Name  Year  \\\n",
       "0              1                Spider-Man: Across the Spider-Verse  2023   \n",
       "1              2                                    The Dark Knight  2008   \n",
       "2              3      The Lord of the Rings: The Return of the King  2003   \n",
       "3              4                                          Inception  2010   \n",
       "4              5  The Lord of the Rings: The Fellowship of the Ring  2001   \n",
       "5              6              The Lord of the Rings: The Two Towers  2002   \n",
       "6              7                                         The Matrix  1999   \n",
       "7              8     Star Wars: Episode V - The Empire Strikes Back  1980   \n",
       "8              9                                    Soorarai Pottru  2020   \n",
       "9             10                         Terminator 2: Judgment Day  1991   \n",
       "\n",
       "   Duration(In Minutes)  Ratings   MetaScore    Votes  \\\n",
       "0                   140      9.0  86           134907   \n",
       "1                   152      9.0  84          2726811   \n",
       "2                   201      9.0  94          1891761   \n",
       "3                   148      8.8  74          2420044   \n",
       "4                   178      8.8  92          1920309   \n",
       "5                   179      8.8  87          1707326   \n",
       "6                   136      8.7  73          1963039   \n",
       "7                   124      8.7  82          1324506   \n",
       "8                   153      8.7         NaN   119684   \n",
       "9                   137      8.6  75          1126076   \n",
       "\n",
       "   Gross_Collection(In Million Dollars)  \\\n",
       "0                                   NaN   \n",
       "1                                534.86   \n",
       "2                                377.85   \n",
       "3                                292.58   \n",
       "4                                315.54   \n",
       "5                                342.55   \n",
       "6                                171.48   \n",
       "7                                290.48   \n",
       "8                                   NaN   \n",
       "9                                204.84   \n",
       "\n",
       "                                      Genre  \n",
       "0  Animation, Action, Adventure              \n",
       "1          Action, Crime, Drama              \n",
       "2      Action, Adventure, Drama              \n",
       "3     Action, Adventure, Sci-Fi              \n",
       "4      Action, Adventure, Drama              \n",
       "5      Action, Adventure, Drama              \n",
       "6                Action, Sci-Fi              \n",
       "7    Action, Adventure, Fantasy              \n",
       "8                 Action, Drama              \n",
       "9                Action, Sci-Fi              "
      ]
     },
     "execution_count": 123,
     "metadata": {},
     "output_type": "execute_result"
    }
   ],
   "source": [
    "df2.head(10)"
   ]
  },
  {
   "cell_type": "markdown",
   "id": "44a2059f",
   "metadata": {},
   "source": [
    "Handle the nan values------\n",
    "For the column 'Gross_Collection(In Million Dollars)' , the nan values are 279 and the data is in the form of continous decimal values, hence we shall replace with mean/median of that specific column"
   ]
  },
  {
   "cell_type": "code",
   "execution_count": 124,
   "id": "3d6f21dc",
   "metadata": {},
   "outputs": [
    {
     "data": {
      "text/plain": [
       "77.15758667573085"
      ]
     },
     "execution_count": 124,
     "metadata": {},
     "output_type": "execute_result"
    }
   ],
   "source": [
    "np.mean(df2['Gross_Collection(In Million Dollars)'])"
   ]
  },
  {
   "cell_type": "code",
   "execution_count": 125,
   "id": "014f0874",
   "metadata": {},
   "outputs": [],
   "source": [
    "df2['Gross_Collection(In Million Dollars)']=df2['Gross_Collection(In Million Dollars)'].fillna(np.mean(df2['Gross_Collection(In Million Dollars)']))"
   ]
  },
  {
   "cell_type": "markdown",
   "id": "52ea97f5",
   "metadata": {},
   "source": [
    "Handle the nan values------\n",
    "For the column 'MetaScore' , the nan values are 180 and the data is in the form of continous integral values, hence we shall replace with mean/median of that specific column"
   ]
  },
  {
   "cell_type": "code",
   "execution_count": 132,
   "id": "e92184b6",
   "metadata": {},
   "outputs": [],
   "source": [
    "#convert object type to int for the 'MetaScore' column\n",
    "df2['MetaScore']=df2['MetaScore'].fillna(0).astype(int)"
   ]
  },
  {
   "cell_type": "code",
   "execution_count": 134,
   "id": "46b9f47c",
   "metadata": {},
   "outputs": [
    {
     "data": {
      "text/plain": [
       "47.90342857142857"
      ]
     },
     "execution_count": 134,
     "metadata": {},
     "output_type": "execute_result"
    }
   ],
   "source": [
    "np.mean(df2['MetaScore'])"
   ]
  },
  {
   "cell_type": "code",
   "execution_count": 137,
   "id": "5335972f",
   "metadata": {},
   "outputs": [],
   "source": [
    "df2['MetaScore']=df2['MetaScore'].fillna(np.mean(df2['MetaScore']))"
   ]
  },
  {
   "cell_type": "code",
   "execution_count": null,
   "id": "d145fa3f",
   "metadata": {},
   "outputs": [],
   "source": []
  },
  {
   "cell_type": "code",
   "execution_count": 138,
   "id": "ca9c5a04",
   "metadata": {},
   "outputs": [
    {
     "data": {
      "text/plain": [
       "Serial Number                             int64\n",
       "Movie Name                               object\n",
       "Year                                     object\n",
       "Duration(In Minutes)                      int64\n",
       "Ratings                                 float64\n",
       "MetaScore                                 int32\n",
       "Votes                                     int64\n",
       "Gross_Collection(In Million Dollars)    float64\n",
       "Genre                                    object\n",
       "dtype: object"
      ]
     },
     "execution_count": 138,
     "metadata": {},
     "output_type": "execute_result"
    }
   ],
   "source": [
    "df2.dtypes"
   ]
  },
  {
   "cell_type": "code",
   "execution_count": 139,
   "id": "c3b55652",
   "metadata": {},
   "outputs": [
    {
     "data": {
      "text/plain": [
       "Serial Number                           0\n",
       "Movie Name                              0\n",
       "Year                                    0\n",
       "Duration(In Minutes)                    0\n",
       "Ratings                                 0\n",
       "MetaScore                               0\n",
       "Votes                                   0\n",
       "Gross_Collection(In Million Dollars)    0\n",
       "Genre                                   0\n",
       "dtype: int64"
      ]
     },
     "execution_count": 139,
     "metadata": {},
     "output_type": "execute_result"
    }
   ],
   "source": [
    "df2.isnull().sum()"
   ]
  },
  {
   "cell_type": "code",
   "execution_count": 140,
   "id": "aaecf39c",
   "metadata": {},
   "outputs": [
    {
     "data": {
      "text/plain": [
       "<AxesSubplot:>"
      ]
     },
     "execution_count": 140,
     "metadata": {},
     "output_type": "execute_result"
    },
    {
     "data": {
      "image/png": "[encoded data removed]",
      "text/plain": [
       "<Figure size 432x288 with 2 Axes>"
      ]
     },
     "metadata": {
      "needs_background": "light"
     },
     "output_type": "display_data"
    }
   ],
   "source": [
    "sns.heatmap(df2.isnull())"
   ]
  },
  {
   "cell_type": "markdown",
   "id": "74370a22",
   "metadata": {},
   "source": [
    "From the above result we can see that there are no null values present in the dataset ,and has been filled with mean of the specific columns"
   ]
  },
  {
   "cell_type": "markdown",
   "id": "3aeb51d2",
   "metadata": {},
   "source": [
    "# Visualization of data"
   ]
  },
  {
   "cell_type": "code",
   "execution_count": 141,
   "id": "95ec6197",
   "metadata": {},
   "outputs": [],
   "source": [
    "import seaborn as sns"
   ]
  },
  {
   "cell_type": "code",
   "execution_count": 142,
   "id": "4fd09531",
   "metadata": {
    "scrolled": true
   },
   "outputs": [
    {
     "data": {
      "text/plain": [
       "array(['Animation, Action, Adventure            ',\n",
       "       'Action, Crime, Drama            ',\n",
       "       'Action, Adventure, Drama            ',\n",
       "       'Action, Adventure, Sci-Fi            ',\n",
       "       'Action, Sci-Fi            ',\n",
       "       'Action, Adventure, Fantasy            ',\n",
       "       'Action, Drama            ', 'Action, Drama, Mystery            ',\n",
       "       'Action, Adventure            ',\n",
       "       'Action, Drama, Thriller            ',\n",
       "       'Action, Adventure, Crime            ',\n",
       "       'Action, Adventure, Mystery            ',\n",
       "       'Action, Biography, Drama            ',\n",
       "       'Action, Crime, Thriller            ',\n",
       "       'Action, Adventure, Comedy            ',\n",
       "       'Action, Drama, War            ', 'Action, Thriller            ',\n",
       "       'Action, Drama, Sci-Fi            ',\n",
       "       'Action, Comedy, Crime            ',\n",
       "       'Action, Comedy, Romance            ',\n",
       "       'Action, Drama, History            ',\n",
       "       'Action, Biography, Crime            ',\n",
       "       'Action, Drama, Sport            ',\n",
       "       'Animation, Action, Drama            ',\n",
       "       'Action, Comedy            ',\n",
       "       'Action, Adventure, Thriller            ',\n",
       "       'Action, Mystery, Thriller            ',\n",
       "       'Action, Drama, Romance            ',\n",
       "       'Action, Sci-Fi, Thriller            ',\n",
       "       'Action, Drama, Western            ',\n",
       "       'Animation, Action, Crime            ',\n",
       "       'Action, Adventure, Romance            ',\n",
       "       'Action, Comedy, Mystery            ',\n",
       "       'Action, Adventure, Horror            ',\n",
       "       'Action, Comedy, Fantasy            ',\n",
       "       'Action, Crime, Horror            ',\n",
       "       'Action, Adventure, Biography            ',\n",
       "       'Action, Crime, Comedy            ',\n",
       "       'Action, Comedy, Drama            ',\n",
       "       'Action, Adventure, War            ',\n",
       "       'Action, Crime, Sci-Fi            ',\n",
       "       'Action, Adventure, Family            ',\n",
       "       'Action, Horror, Thriller            ',\n",
       "       'Action, Crime, Mystery            ',\n",
       "       'Action, Comedy, Horror            ',\n",
       "       'Action, Thriller, War            ',\n",
       "       'Action, Comedy, Thriller            ',\n",
       "       'Action, Drama, Family            ',\n",
       "       'Action, Comedy, Sci-Fi            ', 'Action, Horror            ',\n",
       "       'Animation, Action, Comedy            ',\n",
       "       'Action, Horror, Sci-Fi            ',\n",
       "       'Action, Drama, Horror            ',\n",
       "       'Action, Crime, Fantasy            ',\n",
       "       'Action, Comedy, War            ',\n",
       "       'Action, Mystery, Sci-Fi            ',\n",
       "       'Action, Fantasy            ',\n",
       "       'Action, Fantasy, Thriller            ',\n",
       "       'Action, Fantasy, Horror            ', 'Action, War            ',\n",
       "       'Action, Horror, Mystery            ',\n",
       "       'Action, Adventure, History            ',\n",
       "       'Action, Sci-Fi, Sport            ',\n",
       "       'Action, Drama, Comedy            ',\n",
       "       'Action, Romance, Thriller            ',\n",
       "       'Action, Sport, Thriller            ',\n",
       "       'Action, Adventure, Western            ',\n",
       "       'Action, Comedy, Sport            ',\n",
       "       'Animation, Action, Horror            ',\n",
       "       'Action, Thriller, Western            ',\n",
       "       'Action, Comedy, Family            ',\n",
       "       'Action, Drama, Music            ',\n",
       "       'Action, Crime, Romance            ',\n",
       "       'Action, Drama, Fantasy            ', 'Action, Crime            ',\n",
       "       'Action            ', 'Action, Family, Sport            ',\n",
       "       'Action, Fantasy, Sci-Fi            ',\n",
       "       'Action, Horror, War            ',\n",
       "       'Action, Drama, Musical            '], dtype=object)"
      ]
     },
     "execution_count": 142,
     "metadata": {},
     "output_type": "execute_result"
    }
   ],
   "source": [
    "df2['Genre'].unique()"
   ]
  },
  {
   "cell_type": "code",
   "execution_count": 143,
   "id": "56f89781",
   "metadata": {},
   "outputs": [
    {
     "data": {
      "text/plain": [
       "80"
      ]
     },
     "execution_count": 143,
     "metadata": {},
     "output_type": "execute_result"
    }
   ],
   "source": [
    "df2['Genre'].nunique()"
   ]
  },
  {
   "cell_type": "code",
   "execution_count": null,
   "id": "48fc1d61",
   "metadata": {},
   "outputs": [],
   "source": [
    "#Distribution of continous features"
   ]
  },
  {
   "cell_type": "code",
   "execution_count": 149,
   "id": "26e2241c",
   "metadata": {},
   "outputs": [
    {
     "data": {
      "text/plain": [
       "<AxesSubplot:xlabel='Serial Number', ylabel='Votes'>"
      ]
     },
     "execution_count": 149,
     "metadata": {},
     "output_type": "execute_result"
    },
    {
     "data": {
      "image/png": "[encoded data removed]",
      "text/plain": [
       "<Figure size 432x288 with 1 Axes>"
      ]
     },
     "metadata": {
      "needs_background": "light"
     },
     "output_type": "display_data"
    }
   ],
   "source": [
    "sns.scatterplot(x=\"Serial Number\",y=\"Votes\",data=df2)"
   ]
  },
  {
   "cell_type": "code",
   "execution_count": 150,
   "id": "c4d6c8cc",
   "metadata": {},
   "outputs": [
    {
     "data": {
      "text/plain": [
       "<seaborn.axisgrid.FacetGrid at 0x1ede67f50a0>"
      ]
     },
     "execution_count": 150,
     "metadata": {},
     "output_type": "execute_result"
    },
    {
     "data": {
      "image/png": "[encoded data removed]",
      "text/plain": [
       "<Figure size 360x360 with 1 Axes>"
      ]
     },
     "metadata": {
      "needs_background": "light"
     },
     "output_type": "display_data"
    }
   ],
   "source": [
    "sns.displot(df2['Serial Number'],kde=True)"
   ]
  },
  {
   "cell_type": "code",
   "execution_count": 151,
   "id": "59879a2a",
   "metadata": {},
   "outputs": [
    {
     "data": {
      "text/plain": [
       "<AxesSubplot:>"
      ]
     },
     "execution_count": 151,
     "metadata": {},
     "output_type": "execute_result"
    },
    {
     "data": {
      "image/png": "[encoded data removed]",
      "text/plain": [
       "<Figure size 432x288 with 1 Axes>"
      ]
     },
     "metadata": {
      "needs_background": "light"
     },
     "output_type": "display_data"
    }
   ],
   "source": [
    "df2[\"Serial Number\"].plot.box()"
   ]
  },
  {
   "cell_type": "markdown",
   "id": "ad367c3c",
   "metadata": {},
   "source": [
    "Observations: From the above observation we can see that the data is normally distributed for Serial number and there are no outliers present"
   ]
  },
  {
   "cell_type": "code",
   "execution_count": 152,
   "id": "294f3f85",
   "metadata": {},
   "outputs": [
    {
     "data": {
      "text/plain": [
       "<AxesSubplot:xlabel='Movie Name', ylabel='Votes'>"
      ]
     },
     "execution_count": 152,
     "metadata": {},
     "output_type": "execute_result"
    },
    {
     "data": {
      "image/png": "[encoded data removed]",
      "text/plain": [
       "<Figure size 432x288 with 1 Axes>"
      ]
     },
     "metadata": {
      "needs_background": "light"
     },
     "output_type": "display_data"
    }
   ],
   "source": [
    "sns.scatterplot(x=\"Movie Name\",y=\"Votes\",data=df2)"
   ]
  },
  {
   "cell_type": "code",
   "execution_count": 154,
   "id": "521f4917",
   "metadata": {},
   "outputs": [
    {
     "data": {
      "text/plain": [
       "<seaborn.axisgrid.FacetGrid at 0x1ede8377970>"
      ]
     },
     "execution_count": 154,
     "metadata": {},
     "output_type": "execute_result"
    },
    {
     "data": {
      "image/png": "[encoded data removed]",
      "text/plain": [
       "<Figure size 360x360 with 1 Axes>"
      ]
     },
     "metadata": {
      "needs_background": "light"
     },
     "output_type": "display_data"
    }
   ],
   "source": [
    "sns.displot(df2['Movie Name'],kde=True)"
   ]
  },
  {
   "cell_type": "markdown",
   "id": "d647a253",
   "metadata": {},
   "source": [
    "Observations: From the above observations we can see that Movie name is normally distributed "
   ]
  },
  {
   "cell_type": "code",
   "execution_count": 156,
   "id": "7434401b",
   "metadata": {},
   "outputs": [
    {
     "data": {
      "text/plain": [
       "<AxesSubplot:xlabel='Duration(In Minutes)', ylabel='Votes'>"
      ]
     },
     "execution_count": 156,
     "metadata": {},
     "output_type": "execute_result"
    },
    {
     "data": {
      "image/png": "[encoded data removed]",
      "text/plain": [
       "<Figure size 432x288 with 1 Axes>"
      ]
     },
     "metadata": {
      "needs_background": "light"
     },
     "output_type": "display_data"
    }
   ],
   "source": [
    "sns.scatterplot(x=\"Duration(In Minutes)\",y=\"Votes\",data=df2)"
   ]
  },
  {
   "cell_type": "code",
   "execution_count": 157,
   "id": "764d8ed2",
   "metadata": {},
   "outputs": [
    {
     "data": {
      "text/plain": [
       "<seaborn.axisgrid.FacetGrid at 0x1ede4c4d790>"
      ]
     },
     "execution_count": 157,
     "metadata": {},
     "output_type": "execute_result"
    },
    {
     "data": {
      "image/png": "[encoded data removed]",
      "text/plain": [
       "<Figure size 360x360 with 1 Axes>"
      ]
     },
     "metadata": {
      "needs_background": "light"
     },
     "output_type": "display_data"
    }
   ],
   "source": [
    "sns.displot(df2['Duration(In Minutes)'],kde=True)"
   ]
  },
  {
   "cell_type": "code",
   "execution_count": 158,
   "id": "cbb91722",
   "metadata": {},
   "outputs": [
    {
     "data": {
      "text/plain": [
       "<AxesSubplot:>"
      ]
     },
     "execution_count": 158,
     "metadata": {},
     "output_type": "execute_result"
    },
    {
     "data": {
      "image/png": "[encoded data removed]",
      "text/plain": [
       "<Figure size 432x288 with 1 Axes>"
      ]
     },
     "metadata": {
      "needs_background": "light"
     },
     "output_type": "display_data"
    }
   ],
   "source": [
    "df2[\"Duration(In Minutes)\"].plot.box()"
   ]
  },
  {
   "cell_type": "markdown",
   "id": "a0ea9d7f",
   "metadata": {},
   "source": [
    "Observations: From the above observations we can see that Duration(In Minutes) is not normally distributed, data is distributed towards right and also outliers are present"
   ]
  },
  {
   "cell_type": "code",
   "execution_count": 159,
   "id": "2957ed00",
   "metadata": {},
   "outputs": [
    {
     "data": {
      "text/plain": [
       "<AxesSubplot:xlabel='Ratings', ylabel='Votes'>"
      ]
     },
     "execution_count": 159,
     "metadata": {},
     "output_type": "execute_result"
    },
    {
     "data": {
      "image/png": "[encoded data removed]",
      "text/plain": [
       "<Figure size 432x288 with 1 Axes>"
      ]
     },
     "metadata": {
      "needs_background": "light"
     },
     "output_type": "display_data"
    }
   ],
   "source": [
    "sns.scatterplot(x=\"Ratings\",y=\"Votes\",data=df2)"
   ]
  },
  {
   "cell_type": "code",
   "execution_count": 160,
   "id": "991f3322",
   "metadata": {},
   "outputs": [
    {
     "data": {
      "text/plain": [
       "<seaborn.axisgrid.FacetGrid at 0x1edf11f7790>"
      ]
     },
     "execution_count": 160,
     "metadata": {},
     "output_type": "execute_result"
    },
    {
     "data": {
      "image/png": "[encoded data removed]",
      "text/plain": [
       "<Figure size 360x360 with 1 Axes>"
      ]
     },
     "metadata": {
      "needs_background": "light"
     },
     "output_type": "display_data"
    }
   ],
   "source": [
    "sns.displot(df2['Ratings'],kde=True)"
   ]
  },
  {
   "cell_type": "code",
   "execution_count": 161,
   "id": "80b58fa1",
   "metadata": {},
   "outputs": [
    {
     "data": {
      "text/plain": [
       "<AxesSubplot:>"
      ]
     },
     "execution_count": 161,
     "metadata": {},
     "output_type": "execute_result"
    },
    {
     "data": {
      "image/png": "[encoded data removed]",
      "text/plain": [
       "<Figure size 432x288 with 1 Axes>"
      ]
     },
     "metadata": {
      "needs_background": "light"
     },
     "output_type": "display_data"
    }
   ],
   "source": [
    "df2[\"Ratings\"].plot.box()"
   ]
  },
  {
   "cell_type": "markdown",
   "id": "d3e6302e",
   "metadata": {},
   "source": [
    "Observations: From the above observations we can see that Ratings is not normally distributed, data is distributed towards left and also outliers are present"
   ]
  },
  {
   "cell_type": "code",
   "execution_count": 162,
   "id": "4c22ba8d",
   "metadata": {},
   "outputs": [
    {
     "data": {
      "text/plain": [
       "<AxesSubplot:xlabel='MetaScore', ylabel='Votes'>"
      ]
     },
     "execution_count": 162,
     "metadata": {},
     "output_type": "execute_result"
    },
    {
     "data": {
      "image/png": "[encoded data removed]",
      "text/plain": [
       "<Figure size 432x288 with 1 Axes>"
      ]
     },
     "metadata": {
      "needs_background": "light"
     },
     "output_type": "display_data"
    }
   ],
   "source": [
    "sns.scatterplot(x=\"MetaScore\",y=\"Votes\",data=df2)"
   ]
  },
  {
   "cell_type": "code",
   "execution_count": 163,
   "id": "5c156445",
   "metadata": {},
   "outputs": [
    {
     "data": {
      "text/plain": [
       "<seaborn.axisgrid.FacetGrid at 0x1edf147b130>"
      ]
     },
     "execution_count": 163,
     "metadata": {},
     "output_type": "execute_result"
    },
    {
     "data": {
      "image/png": "[encoded data removed]",
      "text/plain": [
       "<Figure size 360x360 with 1 Axes>"
      ]
     },
     "metadata": {
      "needs_background": "light"
     },
     "output_type": "display_data"
    }
   ],
   "source": [
    "sns.displot(df2['MetaScore'],kde=True)"
   ]
  },
  {
   "cell_type": "code",
   "execution_count": 164,
   "id": "af347fbe",
   "metadata": {},
   "outputs": [
    {
     "data": {
      "text/plain": [
       "<AxesSubplot:>"
      ]
     },
     "execution_count": 164,
     "metadata": {},
     "output_type": "execute_result"
    },
    {
     "data": {
      "image/png": "[encoded data removed]",
      "text/plain": [
       "<Figure size 432x288 with 1 Axes>"
      ]
     },
     "metadata": {
      "needs_background": "light"
     },
     "output_type": "display_data"
    }
   ],
   "source": [
    "df2[\"MetaScore\"].plot.box()"
   ]
  },
  {
   "cell_type": "markdown",
   "id": "c887e63b",
   "metadata": {},
   "source": [
    "Observations: From the above observations we can see that Ratings is not normally distributed, data is distributed and also outliers are  not present"
   ]
  },
  {
   "cell_type": "code",
   "execution_count": 165,
   "id": "1e7d4d2b",
   "metadata": {},
   "outputs": [
    {
     "data": {
      "text/plain": [
       "<AxesSubplot:xlabel='Gross_Collection(In Million Dollars)', ylabel='Votes'>"
      ]
     },
     "execution_count": 165,
     "metadata": {},
     "output_type": "execute_result"
    },
    {
     "data": {
      "image/png": "[encoded data removed]",
      "text/plain": [
       "<Figure size 432x288 with 1 Axes>"
      ]
     },
     "metadata": {
      "needs_background": "light"
     },
     "output_type": "display_data"
    }
   ],
   "source": [
    "sns.scatterplot(x=\"Gross_Collection(In Million Dollars)\",y=\"Votes\",data=df2)"
   ]
  },
  {
   "cell_type": "code",
   "execution_count": 166,
   "id": "11a3a5f6",
   "metadata": {},
   "outputs": [
    {
     "data": {
      "text/plain": [
       "<seaborn.axisgrid.FacetGrid at 0x1edf145c730>"
      ]
     },
     "execution_count": 166,
     "metadata": {},
     "output_type": "execute_result"
    },
    {
     "data": {
      "image/png": "[encoded data removed]",
      "text/plain": [
       "<Figure size 360x360 with 1 Axes>"
      ]
     },
     "metadata": {
      "needs_background": "light"
     },
     "output_type": "display_data"
    }
   ],
   "source": [
    "sns.displot(df2['Gross_Collection(In Million Dollars)'],kde=True)"
   ]
  },
  {
   "cell_type": "code",
   "execution_count": 167,
   "id": "7cb095ad",
   "metadata": {},
   "outputs": [
    {
     "data": {
      "text/plain": [
       "<AxesSubplot:>"
      ]
     },
     "execution_count": 167,
     "metadata": {},
     "output_type": "execute_result"
    },
    {
     "data": {
      "image/png": "[encoded data removed]",
      "text/plain": [
       "<Figure size 432x288 with 1 Axes>"
      ]
     },
     "metadata": {
      "needs_background": "light"
     },
     "output_type": "display_data"
    }
   ],
   "source": [
    "df2[\"Gross_Collection(In Million Dollars)\"].plot.box()"
   ]
  },
  {
   "cell_type": "markdown",
   "id": "884b6bab",
   "metadata": {},
   "source": [
    "Observations: From the above observations we can see that Gross_Collection(In Million Dollars) is not normally distributed, data is distributed towards right and also outliers are present"
   ]
  },
  {
   "cell_type": "markdown",
   "id": "8e2c0b65",
   "metadata": {},
   "source": [
    "# Statistical Summary"
   ]
  },
  {
   "cell_type": "code",
   "execution_count": 169,
   "id": "68226fda",
   "metadata": {},
   "outputs": [
    {
     "data": {
      "text/html": [
       "<div>\n",
       "<style scoped>\n",
       "    .dataframe tbody tr th:only-of-type {\n",
       "        vertical-align: middle;\n",
       "    }\n",
       "\n",
       "    .dataframe tbody tr th {\n",
       "        vertical-align: top;\n",
       "    }\n",
       "\n",
       "    .dataframe thead th {\n",
       "        text-align: right;\n",
       "    }\n",
       "</style>\n",
       "<table border=\"1\" class=\"dataframe\">\n",
       "  <thead>\n",
       "    <tr style=\"text-align: right;\">\n",
       "      <th></th>\n",
       "      <th>Serial Number</th>\n",
       "      <th>Duration(In Minutes)</th>\n",
       "      <th>Ratings</th>\n",
       "      <th>MetaScore</th>\n",
       "      <th>Votes</th>\n",
       "      <th>Gross_Collection(In Million Dollars)</th>\n",
       "    </tr>\n",
       "  </thead>\n",
       "  <tbody>\n",
       "    <tr>\n",
       "      <th>count</th>\n",
       "      <td>1750.000000</td>\n",
       "      <td>1750.000000</td>\n",
       "      <td>1750.000000</td>\n",
       "      <td>1750.000000</td>\n",
       "      <td>1.750000e+03</td>\n",
       "      <td>1750.000000</td>\n",
       "    </tr>\n",
       "    <tr>\n",
       "      <th>mean</th>\n",
       "      <td>875.500000</td>\n",
       "      <td>115.398286</td>\n",
       "      <td>6.496629</td>\n",
       "      <td>47.903429</td>\n",
       "      <td>1.813154e+05</td>\n",
       "      <td>77.157587</td>\n",
       "    </tr>\n",
       "    <tr>\n",
       "      <th>std</th>\n",
       "      <td>505.325802</td>\n",
       "      <td>21.755692</td>\n",
       "      <td>0.958507</td>\n",
       "      <td>22.342731</td>\n",
       "      <td>2.370449e+05</td>\n",
       "      <td>94.419306</td>\n",
       "    </tr>\n",
       "    <tr>\n",
       "      <th>min</th>\n",
       "      <td>1.000000</td>\n",
       "      <td>45.000000</td>\n",
       "      <td>2.400000</td>\n",
       "      <td>0.000000</td>\n",
       "      <td>2.504400e+04</td>\n",
       "      <td>0.000000</td>\n",
       "    </tr>\n",
       "    <tr>\n",
       "      <th>25%</th>\n",
       "      <td>438.250000</td>\n",
       "      <td>100.000000</td>\n",
       "      <td>5.900000</td>\n",
       "      <td>37.000000</td>\n",
       "      <td>4.747800e+04</td>\n",
       "      <td>22.130000</td>\n",
       "    </tr>\n",
       "    <tr>\n",
       "      <th>50%</th>\n",
       "      <td>875.500000</td>\n",
       "      <td>112.000000</td>\n",
       "      <td>6.500000</td>\n",
       "      <td>50.500000</td>\n",
       "      <td>9.648700e+04</td>\n",
       "      <td>56.570000</td>\n",
       "    </tr>\n",
       "    <tr>\n",
       "      <th>75%</th>\n",
       "      <td>1312.750000</td>\n",
       "      <td>126.750000</td>\n",
       "      <td>7.100000</td>\n",
       "      <td>64.000000</td>\n",
       "      <td>2.133330e+05</td>\n",
       "      <td>79.135000</td>\n",
       "    </tr>\n",
       "    <tr>\n",
       "      <th>max</th>\n",
       "      <td>1750.000000</td>\n",
       "      <td>321.000000</td>\n",
       "      <td>9.000000</td>\n",
       "      <td>98.000000</td>\n",
       "      <td>2.726811e+06</td>\n",
       "      <td>936.660000</td>\n",
       "    </tr>\n",
       "  </tbody>\n",
       "</table>\n",
       "</div>"
      ],
      "text/plain": [
       "       Serial Number  Duration(In Minutes)      Ratings    MetaScore  \\\n",
       "count    1750.000000           1750.000000  1750.000000  1750.000000   \n",
       "mean      875.500000            115.398286     6.496629    47.903429   \n",
       "std       505.325802             21.755692     0.958507    22.342731   \n",
       "min         1.000000             45.000000     2.400000     0.000000   \n",
       "25%       438.250000            100.000000     5.900000    37.000000   \n",
       "50%       875.500000            112.000000     6.500000    50.500000   \n",
       "75%      1312.750000            126.750000     7.100000    64.000000   \n",
       "max      1750.000000            321.000000     9.000000    98.000000   \n",
       "\n",
       "              Votes  Gross_Collection(In Million Dollars)  \n",
       "count  1.750000e+03                           1750.000000  \n",
       "mean   1.813154e+05                             77.157587  \n",
       "std    2.370449e+05                             94.419306  \n",
       "min    2.504400e+04                              0.000000  \n",
       "25%    4.747800e+04                             22.130000  \n",
       "50%    9.648700e+04                             56.570000  \n",
       "75%    2.133330e+05                             79.135000  \n",
       "max    2.726811e+06                            936.660000  "
      ]
     },
     "execution_count": 169,
     "metadata": {},
     "output_type": "execute_result"
    }
   ],
   "source": [
    "df2.describe()"
   ]
  },
  {
   "cell_type": "code",
   "execution_count": 170,
   "id": "d031b456",
   "metadata": {},
   "outputs": [
    {
     "data": {
      "text/plain": [
       "<AxesSubplot:>"
      ]
     },
     "execution_count": 170,
     "metadata": {},
     "output_type": "execute_result"
    },
    {
     "data": {
      "image/png": "[encoded data removed]",
      "text/plain": [
       "<Figure size 1584x504 with 2 Axes>"
      ]
     },
     "metadata": {
      "needs_background": "light"
     },
     "output_type": "display_data"
    }
   ],
   "source": [
    "import matplotlib.pyplot as plt\n",
    "plt.figure(figsize=(22,7))\n",
    "sns.heatmap(df2.describe(),annot=True,linewidths=0.1,linecolor=\"blue\",fmt=\"0.2f\")"
   ]
  },
  {
   "cell_type": "markdown",
   "id": "c72bba57",
   "metadata": {},
   "source": [
    "From the above observations we can see that the columns 'Duration(In Minutes)','Gross_Collection(In Million Dollars)', here the mean > median -- which shows the data the right skewed.\n",
    "Also there is huge difference between 75% and max for the columns 'Duration(In Minutes)','MetaScore','Gross_Collection(In Million Dollars)' which shows that outliers are present.\n",
    "All the columns show positive correlation with the target column(votes)\n"
   ]
  },
  {
   "cell_type": "code",
   "execution_count": null,
   "id": "a272ee07",
   "metadata": {},
   "outputs": [],
   "source": []
  },
  {
   "cell_type": "code",
   "execution_count": null,
   "id": "53ffc09b",
   "metadata": {},
   "outputs": [],
   "source": [
    "Encoding of dataframe"
   ]
  },
  {
   "cell_type": "code",
   "execution_count": 171,
   "id": "922099b5",
   "metadata": {},
   "outputs": [
    {
     "data": {
      "text/html": [
       "<div>\n",
       "<style scoped>\n",
       "    .dataframe tbody tr th:only-of-type {\n",
       "        vertical-align: middle;\n",
       "    }\n",
       "\n",
       "    .dataframe tbody tr th {\n",
       "        vertical-align: top;\n",
       "    }\n",
       "\n",
       "    .dataframe thead th {\n",
       "        text-align: right;\n",
       "    }\n",
       "</style>\n",
       "<table border=\"1\" class=\"dataframe\">\n",
       "  <thead>\n",
       "    <tr style=\"text-align: right;\">\n",
       "      <th></th>\n",
       "      <th>Serial Number</th>\n",
       "      <th>Movie Name</th>\n",
       "      <th>Year</th>\n",
       "      <th>Duration(In Minutes)</th>\n",
       "      <th>Ratings</th>\n",
       "      <th>MetaScore</th>\n",
       "      <th>Votes</th>\n",
       "      <th>Gross_Collection(In Million Dollars)</th>\n",
       "      <th>Genre</th>\n",
       "    </tr>\n",
       "  </thead>\n",
       "  <tbody>\n",
       "    <tr>\n",
       "      <th>0</th>\n",
       "      <td>1</td>\n",
       "      <td>1162.0</td>\n",
       "      <td>73.0</td>\n",
       "      <td>140</td>\n",
       "      <td>9.0</td>\n",
       "      <td>86</td>\n",
       "      <td>134907</td>\n",
       "      <td>77.157587</td>\n",
       "      <td>75.0</td>\n",
       "    </tr>\n",
       "    <tr>\n",
       "      <th>1</th>\n",
       "      <td>2</td>\n",
       "      <td>1313.0</td>\n",
       "      <td>58.0</td>\n",
       "      <td>152</td>\n",
       "      <td>9.0</td>\n",
       "      <td>84</td>\n",
       "      <td>2726811</td>\n",
       "      <td>534.860000</td>\n",
       "      <td>32.0</td>\n",
       "    </tr>\n",
       "    <tr>\n",
       "      <th>2</th>\n",
       "      <td>3</td>\n",
       "      <td>1418.0</td>\n",
       "      <td>53.0</td>\n",
       "      <td>201</td>\n",
       "      <td>9.0</td>\n",
       "      <td>94</td>\n",
       "      <td>1891761</td>\n",
       "      <td>377.850000</td>\n",
       "      <td>5.0</td>\n",
       "    </tr>\n",
       "    <tr>\n",
       "      <th>3</th>\n",
       "      <td>4</td>\n",
       "      <td>607.0</td>\n",
       "      <td>60.0</td>\n",
       "      <td>148</td>\n",
       "      <td>8.8</td>\n",
       "      <td>74</td>\n",
       "      <td>2420044</td>\n",
       "      <td>292.580000</td>\n",
       "      <td>12.0</td>\n",
       "    </tr>\n",
       "    <tr>\n",
       "      <th>4</th>\n",
       "      <td>5</td>\n",
       "      <td>1417.0</td>\n",
       "      <td>51.0</td>\n",
       "      <td>178</td>\n",
       "      <td>8.8</td>\n",
       "      <td>92</td>\n",
       "      <td>1920309</td>\n",
       "      <td>315.540000</td>\n",
       "      <td>5.0</td>\n",
       "    </tr>\n",
       "    <tr>\n",
       "      <th>...</th>\n",
       "      <td>...</td>\n",
       "      <td>...</td>\n",
       "      <td>...</td>\n",
       "      <td>...</td>\n",
       "      <td>...</td>\n",
       "      <td>...</td>\n",
       "      <td>...</td>\n",
       "      <td>...</td>\n",
       "      <td>...</td>\n",
       "    </tr>\n",
       "    <tr>\n",
       "      <th>1745</th>\n",
       "      <td>1746</td>\n",
       "      <td>159.0</td>\n",
       "      <td>50.0</td>\n",
       "      <td>118</td>\n",
       "      <td>2.5</td>\n",
       "      <td>9</td>\n",
       "      <td>81710</td>\n",
       "      <td>21.470000</td>\n",
       "      <td>12.0</td>\n",
       "    </tr>\n",
       "    <tr>\n",
       "      <th>1746</th>\n",
       "      <td>1747</td>\n",
       "      <td>559.0</td>\n",
       "      <td>72.0</td>\n",
       "      <td>145</td>\n",
       "      <td>2.5</td>\n",
       "      <td>0</td>\n",
       "      <td>27012</td>\n",
       "      <td>77.157587</td>\n",
       "      <td>19.0</td>\n",
       "    </tr>\n",
       "    <tr>\n",
       "      <th>1747</th>\n",
       "      <td>1748</td>\n",
       "      <td>744.0</td>\n",
       "      <td>70.0</td>\n",
       "      <td>141</td>\n",
       "      <td>2.5</td>\n",
       "      <td>0</td>\n",
       "      <td>58065</td>\n",
       "      <td>77.157587</td>\n",
       "      <td>23.0</td>\n",
       "    </tr>\n",
       "    <tr>\n",
       "      <th>1748</th>\n",
       "      <td>1749</td>\n",
       "      <td>72.0</td>\n",
       "      <td>55.0</td>\n",
       "      <td>99</td>\n",
       "      <td>2.4</td>\n",
       "      <td>9</td>\n",
       "      <td>46411</td>\n",
       "      <td>5.180000</td>\n",
       "      <td>61.0</td>\n",
       "    </tr>\n",
       "    <tr>\n",
       "      <th>1749</th>\n",
       "      <td>1750</td>\n",
       "      <td>1477.0</td>\n",
       "      <td>72.0</td>\n",
       "      <td>97</td>\n",
       "      <td>2.4</td>\n",
       "      <td>0</td>\n",
       "      <td>35697</td>\n",
       "      <td>77.157587</td>\n",
       "      <td>69.0</td>\n",
       "    </tr>\n",
       "  </tbody>\n",
       "</table>\n",
       "<p>1750 rows × 9 columns</p>\n",
       "</div>"
      ],
      "text/plain": [
       "      Serial Number  Movie Name  Year  Duration(In Minutes)  Ratings  \\\n",
       "0                 1      1162.0  73.0                   140      9.0   \n",
       "1                 2      1313.0  58.0                   152      9.0   \n",
       "2                 3      1418.0  53.0                   201      9.0   \n",
       "3                 4       607.0  60.0                   148      8.8   \n",
       "4                 5      1417.0  51.0                   178      8.8   \n",
       "...             ...         ...   ...                   ...      ...   \n",
       "1745           1746       159.0  50.0                   118      2.5   \n",
       "1746           1747       559.0  72.0                   145      2.5   \n",
       "1747           1748       744.0  70.0                   141      2.5   \n",
       "1748           1749        72.0  55.0                    99      2.4   \n",
       "1749           1750      1477.0  72.0                    97      2.4   \n",
       "\n",
       "      MetaScore    Votes  Gross_Collection(In Million Dollars)  Genre  \n",
       "0            86   134907                             77.157587   75.0  \n",
       "1            84  2726811                            534.860000   32.0  \n",
       "2            94  1891761                            377.850000    5.0  \n",
       "3            74  2420044                            292.580000   12.0  \n",
       "4            92  1920309                            315.540000    5.0  \n",
       "...         ...      ...                                   ...    ...  \n",
       "1745          9    81710                             21.470000   12.0  \n",
       "1746          0    27012                             77.157587   19.0  \n",
       "1747          0    58065                             77.157587   23.0  \n",
       "1748          9    46411                              5.180000   61.0  \n",
       "1749          0    35697                             77.157587   69.0  \n",
       "\n",
       "[1750 rows x 9 columns]"
      ]
     },
     "execution_count": 171,
     "metadata": {},
     "output_type": "execute_result"
    }
   ],
   "source": [
    "#Since the  dataset has lot of string values, we will use encoding techniques to convert string data to numeric data\n",
    "from sklearn.preprocessing import OrdinalEncoder\n",
    "enc=OrdinalEncoder()\n",
    "for i in df2.columns:\n",
    "    if df2[i].dtypes==\"object\":\n",
    "        df2[i]=enc.fit_transform(df2[i].values.reshape(-1,1))\n",
    "        \n",
    "df2"
   ]
  },
  {
   "cell_type": "markdown",
   "id": "15a24a4a",
   "metadata": {},
   "source": [
    "# Correlation with the target variable"
   ]
  },
  {
   "cell_type": "code",
   "execution_count": 173,
   "id": "70f50c2b",
   "metadata": {},
   "outputs": [
    {
     "data": {
      "text/plain": [
       "Serial Number                          -0.430256\n",
       "Genre                                  -0.075501\n",
       "Year                                    0.025171\n",
       "Movie Name                              0.027181\n",
       "Duration(In Minutes)                    0.278589\n",
       "MetaScore                               0.382320\n",
       "Ratings                                 0.433711\n",
       "Gross_Collection(In Million Dollars)    0.671593\n",
       "Votes                                   1.000000\n",
       "Name: Votes, dtype: float64"
      ]
     },
     "execution_count": 173,
     "metadata": {},
     "output_type": "execute_result"
    }
   ],
   "source": [
    "df2.corr()['Votes'].sort_values()"
   ]
  },
  {
   "cell_type": "code",
   "execution_count": 174,
   "id": "098e42f6",
   "metadata": {},
   "outputs": [
    {
     "data": {
      "text/plain": [
       "<AxesSubplot:>"
      ]
     },
     "execution_count": 174,
     "metadata": {},
     "output_type": "execute_result"
    },
    {
     "data": {
      "image/png": "[encoded data removed]",
      "text/plain": [
       "<Figure size 1584x504 with 2 Axes>"
      ]
     },
     "metadata": {
      "needs_background": "light"
     },
     "output_type": "display_data"
    }
   ],
   "source": [
    "plt.figure(figsize=(22,7))\n",
    "sns.heatmap(df2.corr(),annot=True,linewidth=0.1,linecolor=\"black\",fmt=\"0.2f\")"
   ]
  },
  {
   "cell_type": "markdown",
   "id": "cfb80c18",
   "metadata": {},
   "source": [
    "From the above observations we can see that the columns are mostly positively corelated with the target variable, except the columns 'Serial Number' ans 'Genre' have negative correlation , within the acceptable range"
   ]
  },
  {
   "cell_type": "markdown",
   "id": "79f0f93f",
   "metadata": {},
   "source": [
    "# Skewness"
   ]
  },
  {
   "cell_type": "code",
   "execution_count": 176,
   "id": "a724fe77",
   "metadata": {},
   "outputs": [
    {
     "data": {
      "text/plain": [
       "Serial Number                           0.000000\n",
       "Movie Name                             -0.002440\n",
       "Year                                   -0.300385\n",
       "Duration(In Minutes)                    1.487536\n",
       "Ratings                                -0.518249\n",
       "MetaScore                              -0.634584\n",
       "Votes                                   3.809297\n",
       "Gross_Collection(In Million Dollars)    3.537900\n",
       "Genre                                   0.603024\n",
       "dtype: float64"
      ]
     },
     "execution_count": 176,
     "metadata": {},
     "output_type": "execute_result"
    }
   ],
   "source": [
    "df2.skew()"
   ]
  },
  {
   "cell_type": "markdown",
   "id": "8b86cf81",
   "metadata": {},
   "source": [
    "As the acceptable range of skewness is from -0.5 to +0.5 , we can some of the fetures like 'Metascore',have a bit high skewness, hence in order to get in the acceptable range , we can use different transformation techniques"
   ]
  },
  {
   "cell_type": "code",
   "execution_count": 177,
   "id": "9ce4cc14",
   "metadata": {},
   "outputs": [],
   "source": [
    "df_new=df2"
   ]
  },
  {
   "cell_type": "code",
   "execution_count": 178,
   "id": "5785f4bb",
   "metadata": {},
   "outputs": [
    {
     "data": {
      "text/html": [
       "<div>\n",
       "<style scoped>\n",
       "    .dataframe tbody tr th:only-of-type {\n",
       "        vertical-align: middle;\n",
       "    }\n",
       "\n",
       "    .dataframe tbody tr th {\n",
       "        vertical-align: top;\n",
       "    }\n",
       "\n",
       "    .dataframe thead th {\n",
       "        text-align: right;\n",
       "    }\n",
       "</style>\n",
       "<table border=\"1\" class=\"dataframe\">\n",
       "  <thead>\n",
       "    <tr style=\"text-align: right;\">\n",
       "      <th></th>\n",
       "      <th>Serial Number</th>\n",
       "      <th>Movie Name</th>\n",
       "      <th>Year</th>\n",
       "      <th>Duration(In Minutes)</th>\n",
       "      <th>Ratings</th>\n",
       "      <th>MetaScore</th>\n",
       "      <th>Votes</th>\n",
       "      <th>Gross_Collection(In Million Dollars)</th>\n",
       "      <th>Genre</th>\n",
       "    </tr>\n",
       "  </thead>\n",
       "  <tbody>\n",
       "    <tr>\n",
       "      <th>0</th>\n",
       "      <td>1</td>\n",
       "      <td>1162.0</td>\n",
       "      <td>73.0</td>\n",
       "      <td>140</td>\n",
       "      <td>9.0</td>\n",
       "      <td>86</td>\n",
       "      <td>134907</td>\n",
       "      <td>77.157587</td>\n",
       "      <td>75.0</td>\n",
       "    </tr>\n",
       "    <tr>\n",
       "      <th>1</th>\n",
       "      <td>2</td>\n",
       "      <td>1313.0</td>\n",
       "      <td>58.0</td>\n",
       "      <td>152</td>\n",
       "      <td>9.0</td>\n",
       "      <td>84</td>\n",
       "      <td>2726811</td>\n",
       "      <td>534.860000</td>\n",
       "      <td>32.0</td>\n",
       "    </tr>\n",
       "    <tr>\n",
       "      <th>2</th>\n",
       "      <td>3</td>\n",
       "      <td>1418.0</td>\n",
       "      <td>53.0</td>\n",
       "      <td>201</td>\n",
       "      <td>9.0</td>\n",
       "      <td>94</td>\n",
       "      <td>1891761</td>\n",
       "      <td>377.850000</td>\n",
       "      <td>5.0</td>\n",
       "    </tr>\n",
       "    <tr>\n",
       "      <th>3</th>\n",
       "      <td>4</td>\n",
       "      <td>607.0</td>\n",
       "      <td>60.0</td>\n",
       "      <td>148</td>\n",
       "      <td>8.8</td>\n",
       "      <td>74</td>\n",
       "      <td>2420044</td>\n",
       "      <td>292.580000</td>\n",
       "      <td>12.0</td>\n",
       "    </tr>\n",
       "    <tr>\n",
       "      <th>4</th>\n",
       "      <td>5</td>\n",
       "      <td>1417.0</td>\n",
       "      <td>51.0</td>\n",
       "      <td>178</td>\n",
       "      <td>8.8</td>\n",
       "      <td>92</td>\n",
       "      <td>1920309</td>\n",
       "      <td>315.540000</td>\n",
       "      <td>5.0</td>\n",
       "    </tr>\n",
       "    <tr>\n",
       "      <th>...</th>\n",
       "      <td>...</td>\n",
       "      <td>...</td>\n",
       "      <td>...</td>\n",
       "      <td>...</td>\n",
       "      <td>...</td>\n",
       "      <td>...</td>\n",
       "      <td>...</td>\n",
       "      <td>...</td>\n",
       "      <td>...</td>\n",
       "    </tr>\n",
       "    <tr>\n",
       "      <th>1745</th>\n",
       "      <td>1746</td>\n",
       "      <td>159.0</td>\n",
       "      <td>50.0</td>\n",
       "      <td>118</td>\n",
       "      <td>2.5</td>\n",
       "      <td>9</td>\n",
       "      <td>81710</td>\n",
       "      <td>21.470000</td>\n",
       "      <td>12.0</td>\n",
       "    </tr>\n",
       "    <tr>\n",
       "      <th>1746</th>\n",
       "      <td>1747</td>\n",
       "      <td>559.0</td>\n",
       "      <td>72.0</td>\n",
       "      <td>145</td>\n",
       "      <td>2.5</td>\n",
       "      <td>0</td>\n",
       "      <td>27012</td>\n",
       "      <td>77.157587</td>\n",
       "      <td>19.0</td>\n",
       "    </tr>\n",
       "    <tr>\n",
       "      <th>1747</th>\n",
       "      <td>1748</td>\n",
       "      <td>744.0</td>\n",
       "      <td>70.0</td>\n",
       "      <td>141</td>\n",
       "      <td>2.5</td>\n",
       "      <td>0</td>\n",
       "      <td>58065</td>\n",
       "      <td>77.157587</td>\n",
       "      <td>23.0</td>\n",
       "    </tr>\n",
       "    <tr>\n",
       "      <th>1748</th>\n",
       "      <td>1749</td>\n",
       "      <td>72.0</td>\n",
       "      <td>55.0</td>\n",
       "      <td>99</td>\n",
       "      <td>2.4</td>\n",
       "      <td>9</td>\n",
       "      <td>46411</td>\n",
       "      <td>5.180000</td>\n",
       "      <td>61.0</td>\n",
       "    </tr>\n",
       "    <tr>\n",
       "      <th>1749</th>\n",
       "      <td>1750</td>\n",
       "      <td>1477.0</td>\n",
       "      <td>72.0</td>\n",
       "      <td>97</td>\n",
       "      <td>2.4</td>\n",
       "      <td>0</td>\n",
       "      <td>35697</td>\n",
       "      <td>77.157587</td>\n",
       "      <td>69.0</td>\n",
       "    </tr>\n",
       "  </tbody>\n",
       "</table>\n",
       "<p>1750 rows × 9 columns</p>\n",
       "</div>"
      ],
      "text/plain": [
       "      Serial Number  Movie Name  Year  Duration(In Minutes)  Ratings  \\\n",
       "0                 1      1162.0  73.0                   140      9.0   \n",
       "1                 2      1313.0  58.0                   152      9.0   \n",
       "2                 3      1418.0  53.0                   201      9.0   \n",
       "3                 4       607.0  60.0                   148      8.8   \n",
       "4                 5      1417.0  51.0                   178      8.8   \n",
       "...             ...         ...   ...                   ...      ...   \n",
       "1745           1746       159.0  50.0                   118      2.5   \n",
       "1746           1747       559.0  72.0                   145      2.5   \n",
       "1747           1748       744.0  70.0                   141      2.5   \n",
       "1748           1749        72.0  55.0                    99      2.4   \n",
       "1749           1750      1477.0  72.0                    97      2.4   \n",
       "\n",
       "      MetaScore    Votes  Gross_Collection(In Million Dollars)  Genre  \n",
       "0            86   134907                             77.157587   75.0  \n",
       "1            84  2726811                            534.860000   32.0  \n",
       "2            94  1891761                            377.850000    5.0  \n",
       "3            74  2420044                            292.580000   12.0  \n",
       "4            92  1920309                            315.540000    5.0  \n",
       "...         ...      ...                                   ...    ...  \n",
       "1745          9    81710                             21.470000   12.0  \n",
       "1746          0    27012                             77.157587   19.0  \n",
       "1747          0    58065                             77.157587   23.0  \n",
       "1748          9    46411                              5.180000   61.0  \n",
       "1749          0    35697                             77.157587   69.0  \n",
       "\n",
       "[1750 rows x 9 columns]"
      ]
     },
     "execution_count": 178,
     "metadata": {},
     "output_type": "execute_result"
    }
   ],
   "source": [
    "df_new"
   ]
  },
  {
   "cell_type": "code",
   "execution_count": 179,
   "id": "bbdd4cb5",
   "metadata": {},
   "outputs": [
    {
     "data": {
      "text/plain": [
       "(1750, 9)"
      ]
     },
     "execution_count": 179,
     "metadata": {},
     "output_type": "execute_result"
    }
   ],
   "source": [
    "df_new.shape"
   ]
  },
  {
   "cell_type": "code",
   "execution_count": 181,
   "id": "dd33fa46",
   "metadata": {},
   "outputs": [
    {
     "data": {
      "text/html": [
       "<div>\n",
       "<style scoped>\n",
       "    .dataframe tbody tr th:only-of-type {\n",
       "        vertical-align: middle;\n",
       "    }\n",
       "\n",
       "    .dataframe tbody tr th {\n",
       "        vertical-align: top;\n",
       "    }\n",
       "\n",
       "    .dataframe thead th {\n",
       "        text-align: right;\n",
       "    }\n",
       "</style>\n",
       "<table border=\"1\" class=\"dataframe\">\n",
       "  <thead>\n",
       "    <tr style=\"text-align: right;\">\n",
       "      <th></th>\n",
       "      <th>Serial Number</th>\n",
       "      <th>Movie Name</th>\n",
       "      <th>Year</th>\n",
       "      <th>Duration(In Minutes)</th>\n",
       "      <th>Ratings</th>\n",
       "      <th>MetaScore</th>\n",
       "      <th>Gross_Collection(In Million Dollars)</th>\n",
       "      <th>Genre</th>\n",
       "    </tr>\n",
       "  </thead>\n",
       "  <tbody>\n",
       "    <tr>\n",
       "      <th>0</th>\n",
       "      <td>1</td>\n",
       "      <td>1162.0</td>\n",
       "      <td>73.0</td>\n",
       "      <td>140</td>\n",
       "      <td>9.0</td>\n",
       "      <td>86</td>\n",
       "      <td>77.157587</td>\n",
       "      <td>75.0</td>\n",
       "    </tr>\n",
       "    <tr>\n",
       "      <th>1</th>\n",
       "      <td>2</td>\n",
       "      <td>1313.0</td>\n",
       "      <td>58.0</td>\n",
       "      <td>152</td>\n",
       "      <td>9.0</td>\n",
       "      <td>84</td>\n",
       "      <td>534.860000</td>\n",
       "      <td>32.0</td>\n",
       "    </tr>\n",
       "    <tr>\n",
       "      <th>2</th>\n",
       "      <td>3</td>\n",
       "      <td>1418.0</td>\n",
       "      <td>53.0</td>\n",
       "      <td>201</td>\n",
       "      <td>9.0</td>\n",
       "      <td>94</td>\n",
       "      <td>377.850000</td>\n",
       "      <td>5.0</td>\n",
       "    </tr>\n",
       "    <tr>\n",
       "      <th>3</th>\n",
       "      <td>4</td>\n",
       "      <td>607.0</td>\n",
       "      <td>60.0</td>\n",
       "      <td>148</td>\n",
       "      <td>8.8</td>\n",
       "      <td>74</td>\n",
       "      <td>292.580000</td>\n",
       "      <td>12.0</td>\n",
       "    </tr>\n",
       "    <tr>\n",
       "      <th>4</th>\n",
       "      <td>5</td>\n",
       "      <td>1417.0</td>\n",
       "      <td>51.0</td>\n",
       "      <td>178</td>\n",
       "      <td>8.8</td>\n",
       "      <td>92</td>\n",
       "      <td>315.540000</td>\n",
       "      <td>5.0</td>\n",
       "    </tr>\n",
       "    <tr>\n",
       "      <th>...</th>\n",
       "      <td>...</td>\n",
       "      <td>...</td>\n",
       "      <td>...</td>\n",
       "      <td>...</td>\n",
       "      <td>...</td>\n",
       "      <td>...</td>\n",
       "      <td>...</td>\n",
       "      <td>...</td>\n",
       "    </tr>\n",
       "    <tr>\n",
       "      <th>1745</th>\n",
       "      <td>1746</td>\n",
       "      <td>159.0</td>\n",
       "      <td>50.0</td>\n",
       "      <td>118</td>\n",
       "      <td>2.5</td>\n",
       "      <td>9</td>\n",
       "      <td>21.470000</td>\n",
       "      <td>12.0</td>\n",
       "    </tr>\n",
       "    <tr>\n",
       "      <th>1746</th>\n",
       "      <td>1747</td>\n",
       "      <td>559.0</td>\n",
       "      <td>72.0</td>\n",
       "      <td>145</td>\n",
       "      <td>2.5</td>\n",
       "      <td>0</td>\n",
       "      <td>77.157587</td>\n",
       "      <td>19.0</td>\n",
       "    </tr>\n",
       "    <tr>\n",
       "      <th>1747</th>\n",
       "      <td>1748</td>\n",
       "      <td>744.0</td>\n",
       "      <td>70.0</td>\n",
       "      <td>141</td>\n",
       "      <td>2.5</td>\n",
       "      <td>0</td>\n",
       "      <td>77.157587</td>\n",
       "      <td>23.0</td>\n",
       "    </tr>\n",
       "    <tr>\n",
       "      <th>1748</th>\n",
       "      <td>1749</td>\n",
       "      <td>72.0</td>\n",
       "      <td>55.0</td>\n",
       "      <td>99</td>\n",
       "      <td>2.4</td>\n",
       "      <td>9</td>\n",
       "      <td>5.180000</td>\n",
       "      <td>61.0</td>\n",
       "    </tr>\n",
       "    <tr>\n",
       "      <th>1749</th>\n",
       "      <td>1750</td>\n",
       "      <td>1477.0</td>\n",
       "      <td>72.0</td>\n",
       "      <td>97</td>\n",
       "      <td>2.4</td>\n",
       "      <td>0</td>\n",
       "      <td>77.157587</td>\n",
       "      <td>69.0</td>\n",
       "    </tr>\n",
       "  </tbody>\n",
       "</table>\n",
       "<p>1750 rows × 8 columns</p>\n",
       "</div>"
      ],
      "text/plain": [
       "      Serial Number  Movie Name  Year  Duration(In Minutes)  Ratings  \\\n",
       "0                 1      1162.0  73.0                   140      9.0   \n",
       "1                 2      1313.0  58.0                   152      9.0   \n",
       "2                 3      1418.0  53.0                   201      9.0   \n",
       "3                 4       607.0  60.0                   148      8.8   \n",
       "4                 5      1417.0  51.0                   178      8.8   \n",
       "...             ...         ...   ...                   ...      ...   \n",
       "1745           1746       159.0  50.0                   118      2.5   \n",
       "1746           1747       559.0  72.0                   145      2.5   \n",
       "1747           1748       744.0  70.0                   141      2.5   \n",
       "1748           1749        72.0  55.0                    99      2.4   \n",
       "1749           1750      1477.0  72.0                    97      2.4   \n",
       "\n",
       "      MetaScore  Gross_Collection(In Million Dollars)  Genre  \n",
       "0            86                             77.157587   75.0  \n",
       "1            84                            534.860000   32.0  \n",
       "2            94                            377.850000    5.0  \n",
       "3            74                            292.580000   12.0  \n",
       "4            92                            315.540000    5.0  \n",
       "...         ...                                   ...    ...  \n",
       "1745          9                             21.470000   12.0  \n",
       "1746          0                             77.157587   19.0  \n",
       "1747          0                             77.157587   23.0  \n",
       "1748          9                              5.180000   61.0  \n",
       "1749          0                             77.157587   69.0  \n",
       "\n",
       "[1750 rows x 8 columns]"
      ]
     },
     "execution_count": 181,
     "metadata": {},
     "output_type": "execute_result"
    }
   ],
   "source": [
    "x=df2.drop(\"Votes\",axis=1)\n",
    "x"
   ]
  },
  {
   "cell_type": "code",
   "execution_count": 182,
   "id": "02d2d369",
   "metadata": {},
   "outputs": [
    {
     "data": {
      "text/plain": [
       "0        134907\n",
       "1       2726811\n",
       "2       1891761\n",
       "3       2420044\n",
       "4       1920309\n",
       "         ...   \n",
       "1745      81710\n",
       "1746      27012\n",
       "1747      58065\n",
       "1748      46411\n",
       "1749      35697\n",
       "Name: Votes, Length: 1750, dtype: int64"
      ]
     },
     "execution_count": 182,
     "metadata": {},
     "output_type": "execute_result"
    }
   ],
   "source": [
    "y=df2['Votes']\n",
    "y"
   ]
  },
  {
   "cell_type": "code",
   "execution_count": null,
   "id": "bc0c9863",
   "metadata": {},
   "outputs": [],
   "source": []
  },
  {
   "cell_type": "markdown",
   "id": "08dc0ddb",
   "metadata": {},
   "source": [
    "# Checking for Outliers"
   ]
  },
  {
   "cell_type": "code",
   "execution_count": 183,
   "id": "6268148c",
   "metadata": {},
   "outputs": [
    {
     "data": {
      "text/plain": [
       "True"
      ]
     },
     "execution_count": 183,
     "metadata": {},
     "output_type": "execute_result"
    }
   ],
   "source": [
    "from scipy.stats import zscore\n",
    "(np.abs(zscore(x))).all().all()"
   ]
  },
  {
   "cell_type": "code",
   "execution_count": 184,
   "id": "2fc25aea",
   "metadata": {},
   "outputs": [
    {
     "data": {
      "text/plain": [
       "False"
      ]
     },
     "execution_count": 184,
     "metadata": {},
     "output_type": "execute_result"
    }
   ],
   "source": [
    "(np.abs(zscore(x))<3).all().all()"
   ]
  },
  {
   "cell_type": "code",
   "execution_count": 185,
   "id": "11e117c5",
   "metadata": {},
   "outputs": [
    {
     "data": {
      "text/plain": [
       "(1750, 9)"
      ]
     },
     "execution_count": 185,
     "metadata": {},
     "output_type": "execute_result"
    }
   ],
   "source": [
    "df2.shape"
   ]
  },
  {
   "cell_type": "code",
   "execution_count": 186,
   "id": "784d5894",
   "metadata": {},
   "outputs": [
    {
     "data": {
      "text/html": [
       "<div>\n",
       "<style scoped>\n",
       "    .dataframe tbody tr th:only-of-type {\n",
       "        vertical-align: middle;\n",
       "    }\n",
       "\n",
       "    .dataframe tbody tr th {\n",
       "        vertical-align: top;\n",
       "    }\n",
       "\n",
       "    .dataframe thead th {\n",
       "        text-align: right;\n",
       "    }\n",
       "</style>\n",
       "<table border=\"1\" class=\"dataframe\">\n",
       "  <thead>\n",
       "    <tr style=\"text-align: right;\">\n",
       "      <th></th>\n",
       "      <th>Serial Number</th>\n",
       "      <th>Movie Name</th>\n",
       "      <th>Year</th>\n",
       "      <th>Duration(In Minutes)</th>\n",
       "      <th>Ratings</th>\n",
       "      <th>MetaScore</th>\n",
       "      <th>Votes</th>\n",
       "      <th>Gross_Collection(In Million Dollars)</th>\n",
       "      <th>Genre</th>\n",
       "    </tr>\n",
       "  </thead>\n",
       "  <tbody>\n",
       "    <tr>\n",
       "      <th>0</th>\n",
       "      <td>1</td>\n",
       "      <td>1162.0</td>\n",
       "      <td>73.0</td>\n",
       "      <td>140</td>\n",
       "      <td>9.0</td>\n",
       "      <td>86</td>\n",
       "      <td>134907</td>\n",
       "      <td>77.157587</td>\n",
       "      <td>75.0</td>\n",
       "    </tr>\n",
       "    <tr>\n",
       "      <th>8</th>\n",
       "      <td>9</td>\n",
       "      <td>1143.0</td>\n",
       "      <td>70.0</td>\n",
       "      <td>153</td>\n",
       "      <td>8.7</td>\n",
       "      <td>0</td>\n",
       "      <td>119684</td>\n",
       "      <td>77.157587</td>\n",
       "      <td>39.0</td>\n",
       "    </tr>\n",
       "    <tr>\n",
       "      <th>12</th>\n",
       "      <td>13</td>\n",
       "      <td>1081.0</td>\n",
       "      <td>12.0</td>\n",
       "      <td>133</td>\n",
       "      <td>8.6</td>\n",
       "      <td>85</td>\n",
       "      <td>61350</td>\n",
       "      <td>77.157587</td>\n",
       "      <td>47.0</td>\n",
       "    </tr>\n",
       "    <tr>\n",
       "      <th>13</th>\n",
       "      <td>14</td>\n",
       "      <td>1117.0</td>\n",
       "      <td>72.0</td>\n",
       "      <td>163</td>\n",
       "      <td>8.6</td>\n",
       "      <td>0</td>\n",
       "      <td>60546</td>\n",
       "      <td>77.157587</td>\n",
       "      <td>47.0</td>\n",
       "    </tr>\n",
       "    <tr>\n",
       "      <th>16</th>\n",
       "      <td>17</td>\n",
       "      <td>1165.0</td>\n",
       "      <td>68.0</td>\n",
       "      <td>117</td>\n",
       "      <td>8.4</td>\n",
       "      <td>87</td>\n",
       "      <td>591180</td>\n",
       "      <td>190.240000</td>\n",
       "      <td>75.0</td>\n",
       "    </tr>\n",
       "    <tr>\n",
       "      <th>...</th>\n",
       "      <td>...</td>\n",
       "      <td>...</td>\n",
       "      <td>...</td>\n",
       "      <td>...</td>\n",
       "      <td>...</td>\n",
       "      <td>...</td>\n",
       "      <td>...</td>\n",
       "      <td>...</td>\n",
       "      <td>...</td>\n",
       "    </tr>\n",
       "    <tr>\n",
       "      <th>1727</th>\n",
       "      <td>1728</td>\n",
       "      <td>605.0</td>\n",
       "      <td>57.0</td>\n",
       "      <td>127</td>\n",
       "      <td>3.8</td>\n",
       "      <td>15</td>\n",
       "      <td>50208</td>\n",
       "      <td>4.540000</td>\n",
       "      <td>7.0</td>\n",
       "    </tr>\n",
       "    <tr>\n",
       "      <th>1728</th>\n",
       "      <td>1729</td>\n",
       "      <td>1278.0</td>\n",
       "      <td>48.0</td>\n",
       "      <td>89</td>\n",
       "      <td>3.8</td>\n",
       "      <td>12</td>\n",
       "      <td>44628</td>\n",
       "      <td>23.320000</td>\n",
       "      <td>12.0</td>\n",
       "    </tr>\n",
       "    <tr>\n",
       "      <th>1729</th>\n",
       "      <td>1730</td>\n",
       "      <td>1267.0</td>\n",
       "      <td>52.0</td>\n",
       "      <td>95</td>\n",
       "      <td>3.8</td>\n",
       "      <td>12</td>\n",
       "      <td>26492</td>\n",
       "      <td>4.420000</td>\n",
       "      <td>26.0</td>\n",
       "    </tr>\n",
       "    <tr>\n",
       "      <th>1730</th>\n",
       "      <td>1731</td>\n",
       "      <td>1269.0</td>\n",
       "      <td>55.0</td>\n",
       "      <td>93</td>\n",
       "      <td>3.7</td>\n",
       "      <td>38</td>\n",
       "      <td>40101</td>\n",
       "      <td>39.180000</td>\n",
       "      <td>3.0</td>\n",
       "    </tr>\n",
       "    <tr>\n",
       "      <th>1731</th>\n",
       "      <td>1732</td>\n",
       "      <td>1222.0</td>\n",
       "      <td>37.0</td>\n",
       "      <td>90</td>\n",
       "      <td>3.7</td>\n",
       "      <td>24</td>\n",
       "      <td>50826</td>\n",
       "      <td>15.680000</td>\n",
       "      <td>12.0</td>\n",
       "    </tr>\n",
       "  </tbody>\n",
       "</table>\n",
       "<p>1640 rows × 9 columns</p>\n",
       "</div>"
      ],
      "text/plain": [
       "      Serial Number  Movie Name  Year  Duration(In Minutes)  Ratings  \\\n",
       "0                 1      1162.0  73.0                   140      9.0   \n",
       "8                 9      1143.0  70.0                   153      8.7   \n",
       "12               13      1081.0  12.0                   133      8.6   \n",
       "13               14      1117.0  72.0                   163      8.6   \n",
       "16               17      1165.0  68.0                   117      8.4   \n",
       "...             ...         ...   ...                   ...      ...   \n",
       "1727           1728       605.0  57.0                   127      3.8   \n",
       "1728           1729      1278.0  48.0                    89      3.8   \n",
       "1729           1730      1267.0  52.0                    95      3.8   \n",
       "1730           1731      1269.0  55.0                    93      3.7   \n",
       "1731           1732      1222.0  37.0                    90      3.7   \n",
       "\n",
       "      MetaScore   Votes  Gross_Collection(In Million Dollars)  Genre  \n",
       "0            86  134907                             77.157587   75.0  \n",
       "8             0  119684                             77.157587   39.0  \n",
       "12           85   61350                             77.157587   47.0  \n",
       "13            0   60546                             77.157587   47.0  \n",
       "16           87  591180                            190.240000   75.0  \n",
       "...         ...     ...                                   ...    ...  \n",
       "1727         15   50208                              4.540000    7.0  \n",
       "1728         12   44628                             23.320000   12.0  \n",
       "1729         12   26492                              4.420000   26.0  \n",
       "1730         38   40101                             39.180000    3.0  \n",
       "1731         24   50826                             15.680000   12.0  \n",
       "\n",
       "[1640 rows x 9 columns]"
      ]
     },
     "execution_count": 186,
     "metadata": {},
     "output_type": "execute_result"
    }
   ],
   "source": [
    "from scipy.stats import zscore\n",
    "import numpy as np\n",
    "z=np.abs(zscore(df2))\n",
    "threshold=3\n",
    "np.where(z>3)\n",
    "\n",
    "#if datapoint > 3 --> it is an outlier\n",
    "df_new_z=df2[(z<3).all(axis=1)]\n",
    "df_new_z"
   ]
  },
  {
   "cell_type": "code",
   "execution_count": 187,
   "id": "8bb17b63",
   "metadata": {},
   "outputs": [
    {
     "data": {
      "text/plain": [
       "(1640, 9)"
      ]
     },
     "execution_count": 187,
     "metadata": {},
     "output_type": "execute_result"
    }
   ],
   "source": [
    "df_new_z.shape"
   ]
  },
  {
   "cell_type": "markdown",
   "id": "155e98db",
   "metadata": {},
   "source": [
    "Here the data is reduced after removal of outliers"
   ]
  },
  {
   "cell_type": "code",
   "execution_count": 188,
   "id": "8bdbbc4c",
   "metadata": {},
   "outputs": [
    {
     "data": {
      "text/plain": [
       "6.2857142857142865"
      ]
     },
     "execution_count": 188,
     "metadata": {},
     "output_type": "execute_result"
    }
   ],
   "source": [
    "#Percentage of data loss\n",
    "Data_loss=((1750-1640)/1750)*100\n",
    "Data_loss"
   ]
  },
  {
   "cell_type": "markdown",
   "id": "dec353fe",
   "metadata": {},
   "source": [
    "Here the data loss is in acceptable range"
   ]
  },
  {
   "cell_type": "markdown",
   "id": "479f2b6a",
   "metadata": {},
   "source": [
    "# Scaling the data"
   ]
  },
  {
   "cell_type": "markdown",
   "id": "decb397b",
   "metadata": {},
   "source": [
    "Scaling the data using min-max scale to reduce the biasness--- Seperating the columns into features and target"
   ]
  },
  {
   "cell_type": "markdown",
   "id": "3cfd4e0e",
   "metadata": {},
   "source": [
    "# Data Preprocessing"
   ]
  },
  {
   "cell_type": "code",
   "execution_count": 189,
   "id": "79619113",
   "metadata": {},
   "outputs": [],
   "source": [
    "features=df2.drop(\"Votes\",axis=1)\n",
    "target=df2[\"Votes\"]"
   ]
  },
  {
   "cell_type": "code",
   "execution_count": 190,
   "id": "a59f0ea5",
   "metadata": {},
   "outputs": [
    {
     "name": "stdout",
     "output_type": "stream",
     "text": [
      "At random state0, the training accuracy is: 0.5374919199472061\n",
      "At random state0, the testing accuracy is: 0.5574555831475141\n",
      "\n",
      "\n",
      "At random state1, the training accuracy is: 0.5383296353273428\n",
      "At random state1, the testing accuracy is: 0.5597851839701627\n",
      "\n",
      "\n",
      "At random state2, the training accuracy is: 0.5581928825064825\n",
      "At random state2, the testing accuracy is: 0.49904692569811926\n",
      "\n",
      "\n",
      "At random state3, the training accuracy is: 0.5760567554215185\n",
      "At random state3, the testing accuracy is: 0.42768974328470377\n",
      "\n",
      "\n",
      "At random state4, the training accuracy is: 0.531608137791076\n",
      "At random state4, the testing accuracy is: 0.6028484032900596\n",
      "\n",
      "\n",
      "At random state5, the training accuracy is: 0.5420294628585991\n",
      "At random state5, the testing accuracy is: 0.5450224325150148\n",
      "\n",
      "\n",
      "At random state6, the training accuracy is: 0.5514879913645954\n",
      "At random state6, the testing accuracy is: 0.5136904563895087\n",
      "\n",
      "\n",
      "At random state7, the training accuracy is: 0.5459195946223421\n",
      "At random state7, the testing accuracy is: 0.5357541894163369\n",
      "\n",
      "\n",
      "At random state8, the training accuracy is: 0.541501709628303\n",
      "At random state8, the testing accuracy is: 0.5529320507587916\n",
      "\n",
      "\n",
      "At random state9, the training accuracy is: 0.5419730694520157\n",
      "At random state9, the testing accuracy is: 0.5489696908511084\n",
      "\n",
      "\n",
      "At random state10, the training accuracy is: 0.5345586736332725\n",
      "At random state10, the testing accuracy is: 0.5760156526660751\n",
      "\n",
      "\n",
      "At random state11, the training accuracy is: 0.5365493498247298\n",
      "At random state11, the testing accuracy is: 0.5719424865630349\n",
      "\n",
      "\n",
      "At random state12, the training accuracy is: 0.5684112513088615\n",
      "At random state12, the testing accuracy is: 0.4585528041665127\n",
      "\n",
      "\n",
      "At random state13, the training accuracy is: 0.5419967828516505\n",
      "At random state13, the testing accuracy is: 0.5490063257345488\n",
      "\n",
      "\n",
      "At random state14, the training accuracy is: 0.5759175739191695\n",
      "At random state14, the testing accuracy is: 0.3634763253322584\n",
      "\n",
      "\n",
      "At random state15, the training accuracy is: 0.5511181717121096\n",
      "At random state15, the testing accuracy is: 0.508974710964351\n",
      "\n",
      "\n",
      "At random state16, the training accuracy is: 0.5529031918689843\n",
      "At random state16, the testing accuracy is: 0.5086003912894805\n",
      "\n",
      "\n",
      "At random state17, the training accuracy is: 0.5463003876311088\n",
      "At random state17, the testing accuracy is: 0.5325174424648467\n",
      "\n",
      "\n",
      "At random state18, the training accuracy is: 0.5435582420575512\n",
      "At random state18, the testing accuracy is: 0.5417537678567157\n",
      "\n",
      "\n",
      "At random state19, the training accuracy is: 0.5344798196660824\n",
      "At random state19, the testing accuracy is: 0.6004217652834127\n",
      "\n",
      "\n",
      "At random state20, the training accuracy is: 0.5417398931902269\n",
      "At random state20, the testing accuracy is: 0.5498087950748636\n",
      "\n",
      "\n",
      "At random state21, the training accuracy is: 0.5577783357034436\n",
      "At random state21, the testing accuracy is: 0.4593693441541984\n",
      "\n",
      "\n",
      "At random state22, the training accuracy is: 0.5491693260233066\n",
      "At random state22, the testing accuracy is: 0.5225145230433119\n",
      "\n",
      "\n",
      "At random state23, the training accuracy is: 0.5179050405936337\n",
      "At random state23, the testing accuracy is: 0.6671870166284821\n",
      "\n",
      "\n",
      "At random state24, the training accuracy is: 0.5586705452186265\n",
      "At random state24, the testing accuracy is: 0.4723278952891454\n",
      "\n",
      "\n",
      "At random state25, the training accuracy is: 0.5461325972084632\n",
      "At random state25, the testing accuracy is: 0.5259052810103781\n",
      "\n",
      "\n",
      "At random state26, the training accuracy is: 0.5451270657040848\n",
      "At random state26, the testing accuracy is: 0.5331159702177704\n",
      "\n",
      "\n",
      "At random state27, the training accuracy is: 0.5393025675208942\n",
      "At random state27, the testing accuracy is: 0.5400410601771515\n",
      "\n",
      "\n",
      "At random state28, the training accuracy is: 0.5422321575728432\n",
      "At random state28, the testing accuracy is: 0.550045206622048\n",
      "\n",
      "\n",
      "At random state29, the training accuracy is: 0.5409924407276062\n",
      "At random state29, the testing accuracy is: 0.5439487654003714\n",
      "\n",
      "\n",
      "At random state30, the training accuracy is: 0.5531383362161877\n",
      "At random state30, the testing accuracy is: 0.49112206981472917\n",
      "\n",
      "\n",
      "At random state31, the training accuracy is: 0.5444388665961151\n",
      "At random state31, the testing accuracy is: 0.5358095193315403\n",
      "\n",
      "\n",
      "At random state32, the training accuracy is: 0.5446087771975232\n",
      "At random state32, the testing accuracy is: 0.5404651606747488\n",
      "\n",
      "\n",
      "At random state33, the training accuracy is: 0.5439774363489507\n",
      "At random state33, the testing accuracy is: 0.5422584392274177\n",
      "\n",
      "\n",
      "At random state34, the training accuracy is: 0.5529284992644161\n",
      "At random state34, the testing accuracy is: 0.4606383418497283\n",
      "\n",
      "\n",
      "At random state35, the training accuracy is: 0.5408318355590711\n",
      "At random state35, the testing accuracy is: 0.5513702410654252\n",
      "\n",
      "\n",
      "At random state36, the training accuracy is: 0.5456788058806251\n",
      "At random state36, the testing accuracy is: 0.534345399187162\n",
      "\n",
      "\n",
      "At random state37, the training accuracy is: 0.5598659008179807\n",
      "At random state37, the testing accuracy is: 0.4664386727036519\n",
      "\n",
      "\n",
      "At random state38, the training accuracy is: 0.5451753215404513\n",
      "At random state38, the testing accuracy is: 0.5349863130853152\n",
      "\n",
      "\n",
      "At random state39, the training accuracy is: 0.5285700571555345\n",
      "At random state39, the testing accuracy is: 0.5789754582444454\n",
      "\n",
      "\n",
      "At random state40, the training accuracy is: 0.5301774768417742\n",
      "At random state40, the testing accuracy is: 0.6194035197828636\n",
      "\n",
      "\n",
      "At random state41, the training accuracy is: 0.5368573037126882\n",
      "At random state41, the testing accuracy is: 0.578147795949622\n",
      "\n",
      "\n",
      "At random state42, the training accuracy is: 0.5540492256280666\n",
      "At random state42, the testing accuracy is: 0.4350842945265455\n",
      "\n",
      "\n",
      "At random state43, the training accuracy is: 0.541285525294531\n",
      "At random state43, the testing accuracy is: 0.5564485871773422\n",
      "\n",
      "\n",
      "At random state44, the training accuracy is: 0.5664521609143899\n",
      "At random state44, the testing accuracy is: 0.4637242476099821\n",
      "\n",
      "\n",
      "At random state45, the training accuracy is: 0.5483549065292547\n",
      "At random state45, the testing accuracy is: 0.5239144875772695\n",
      "\n",
      "\n",
      "At random state46, the training accuracy is: 0.5429421857163264\n",
      "At random state46, the testing accuracy is: 0.5438701726528683\n",
      "\n",
      "\n",
      "At random state47, the training accuracy is: 0.5595873058537377\n",
      "At random state47, the testing accuracy is: 0.4581545203803753\n",
      "\n",
      "\n",
      "At random state48, the training accuracy is: 0.5407552034874183\n",
      "At random state48, the testing accuracy is: 0.5518856785444431\n",
      "\n",
      "\n",
      "At random state49, the training accuracy is: 0.5437952101261235\n",
      "At random state49, the testing accuracy is: 0.5419735750324614\n",
      "\n",
      "\n",
      "At random state50, the training accuracy is: 0.5210365094099\n",
      "At random state50, the testing accuracy is: 0.6082787773123106\n",
      "\n",
      "\n",
      "At random state51, the training accuracy is: 0.5546159263296994\n",
      "At random state51, the testing accuracy is: 0.5028528562151775\n",
      "\n",
      "\n",
      "At random state52, the training accuracy is: 0.5673588670454783\n",
      "At random state52, the testing accuracy is: 0.3951134384491616\n",
      "\n",
      "\n",
      "At random state53, the training accuracy is: 0.5536129637531365\n",
      "At random state53, the testing accuracy is: 0.47299459617615536\n",
      "\n",
      "\n",
      "At random state54, the training accuracy is: 0.5413500214931257\n",
      "At random state54, the testing accuracy is: 0.5527112946428638\n",
      "\n",
      "\n",
      "At random state55, the training accuracy is: 0.5649762965316982\n",
      "At random state55, the testing accuracy is: 0.4498692965961417\n",
      "\n",
      "\n",
      "At random state56, the training accuracy is: 0.5584865412572542\n",
      "At random state56, the testing accuracy is: 0.4841897740492651\n",
      "\n",
      "\n",
      "At random state57, the training accuracy is: 0.5385185649572397\n",
      "At random state57, the testing accuracy is: 0.5644203133509367\n",
      "\n",
      "\n",
      "At random state58, the training accuracy is: 0.5492351258923658\n",
      "At random state58, the testing accuracy is: 0.5284201118350563\n",
      "\n",
      "\n",
      "At random state59, the training accuracy is: 0.5581262083853\n",
      "At random state59, the testing accuracy is: 0.4635326761662383\n",
      "\n",
      "\n",
      "At random state60, the training accuracy is: 0.5577510007930622\n",
      "At random state60, the testing accuracy is: 0.490828586925659\n",
      "\n",
      "\n",
      "At random state61, the training accuracy is: 0.5258347148016558\n",
      "At random state61, the testing accuracy is: 0.6185854617584582\n",
      "\n",
      "\n",
      "At random state62, the training accuracy is: 0.5316110371097373\n",
      "At random state62, the testing accuracy is: 0.6036753984512506\n",
      "\n",
      "\n",
      "At random state63, the training accuracy is: 0.5586040265444856\n",
      "At random state63, the testing accuracy is: 0.4806440152747864\n",
      "\n",
      "\n",
      "At random state64, the training accuracy is: 0.5390686399008433\n",
      "At random state64, the testing accuracy is: 0.5695543975879045\n",
      "\n",
      "\n",
      "At random state65, the training accuracy is: 0.5558389630050966\n",
      "At random state65, the testing accuracy is: 0.49828163243478474\n",
      "\n",
      "\n",
      "At random state66, the training accuracy is: 0.5460197079412001\n",
      "At random state66, the testing accuracy is: 0.52968133775113\n",
      "\n",
      "\n",
      "At random state67, the training accuracy is: 0.5563845310499124\n",
      "At random state67, the testing accuracy is: 0.4811471440595161\n",
      "\n",
      "\n",
      "At random state68, the training accuracy is: 0.5484076084256866\n",
      "At random state68, the testing accuracy is: 0.5239883891958796\n",
      "\n",
      "\n",
      "At random state69, the training accuracy is: 0.5681834544580009\n",
      "At random state69, the testing accuracy is: 0.44209321218287834\n",
      "\n",
      "\n",
      "At random state70, the training accuracy is: 0.5534332668824444\n",
      "At random state70, the testing accuracy is: 0.45933458430834084\n",
      "\n",
      "\n",
      "At random state71, the training accuracy is: 0.5338661476309247\n",
      "At random state71, the testing accuracy is: 0.5775005282522563\n",
      "\n",
      "\n",
      "At random state72, the training accuracy is: 0.5433157322655635\n",
      "At random state72, the testing accuracy is: 0.5433676369860883\n",
      "\n",
      "\n",
      "At random state73, the training accuracy is: 0.5441642319346078\n",
      "At random state73, the testing accuracy is: 0.541229640597297\n",
      "\n",
      "\n",
      "At random state74, the training accuracy is: 0.53078187540468\n",
      "At random state74, the testing accuracy is: 0.5916124902261204\n",
      "\n",
      "\n",
      "At random state75, the training accuracy is: 0.5353595498938868\n",
      "At random state75, the testing accuracy is: 0.5687381122416195\n",
      "\n",
      "\n",
      "At random state76, the training accuracy is: 0.5280862037968889\n",
      "At random state76, the testing accuracy is: 0.6018864343741048\n",
      "\n",
      "\n",
      "At random state77, the training accuracy is: 0.5677581488929196\n",
      "At random state77, the testing accuracy is: 0.4288922025260897\n",
      "\n",
      "\n",
      "At random state78, the training accuracy is: 0.5539911209759545\n",
      "At random state78, the testing accuracy is: 0.45608317204104454\n",
      "\n",
      "\n",
      "At random state79, the training accuracy is: 0.5509247971130475\n",
      "At random state79, the testing accuracy is: 0.5038482304490909\n",
      "\n",
      "\n",
      "At random state80, the training accuracy is: 0.5585494951509898\n",
      "At random state80, the testing accuracy is: 0.4864942724507417\n",
      "\n",
      "\n",
      "At random state81, the training accuracy is: 0.554881382042517\n",
      "At random state81, the testing accuracy is: 0.5042371158608054\n",
      "\n",
      "\n",
      "At random state82, the training accuracy is: 0.5395259749717592\n",
      "At random state82, the testing accuracy is: 0.5606432697949084\n",
      "\n",
      "\n",
      "At random state83, the training accuracy is: 0.5458538689290998\n",
      "At random state83, the testing accuracy is: 0.5339506775719223\n",
      "\n",
      "\n",
      "At random state84, the training accuracy is: 0.534333540518829\n",
      "At random state84, the testing accuracy is: 0.5865042644286078\n",
      "\n",
      "\n",
      "At random state85, the training accuracy is: 0.5394165962583141\n",
      "At random state85, the testing accuracy is: 0.560822347028022\n",
      "\n",
      "\n",
      "At random state86, the training accuracy is: 0.5482887951070095\n",
      "At random state86, the testing accuracy is: 0.5268431043862415\n",
      "\n",
      "\n",
      "At random state87, the training accuracy is: 0.5484160150388513\n",
      "At random state87, the testing accuracy is: 0.5154023172620422\n",
      "\n",
      "\n",
      "At random state88, the training accuracy is: 0.5289010709584554\n",
      "At random state88, the testing accuracy is: 0.6079889064239048\n",
      "\n",
      "\n",
      "At random state89, the training accuracy is: 0.5303828595828217\n",
      "At random state89, the testing accuracy is: 0.5942617421397405\n",
      "\n",
      "\n",
      "At random state90, the training accuracy is: 0.5481076780779948\n",
      "At random state90, the testing accuracy is: 0.5088874294057227\n",
      "\n",
      "\n",
      "At random state91, the training accuracy is: 0.5566806981406087\n",
      "At random state91, the testing accuracy is: 0.4907511658951529\n",
      "\n",
      "\n",
      "At random state92, the training accuracy is: 0.5601783318866169\n",
      "At random state92, the testing accuracy is: 0.4296741007933239\n",
      "\n",
      "\n",
      "At random state93, the training accuracy is: 0.5410232204196599\n",
      "At random state93, the testing accuracy is: 0.5531594068984799\n",
      "\n",
      "\n",
      "At random state94, the training accuracy is: 0.5445687568478127\n",
      "At random state94, the testing accuracy is: 0.5303722867022412\n",
      "\n",
      "\n",
      "At random state95, the training accuracy is: 0.5382858554271199\n",
      "At random state95, the testing accuracy is: 0.5688672865458092\n",
      "\n",
      "\n",
      "At random state96, the training accuracy is: 0.5280763219940972\n",
      "At random state96, the testing accuracy is: 0.6119579311007401\n",
      "\n",
      "\n",
      "At random state97, the training accuracy is: 0.557317896573889\n",
      "At random state97, the testing accuracy is: 0.4784382690148018\n",
      "\n",
      "\n",
      "At random state98, the training accuracy is: 0.5482577320515177\n",
      "At random state98, the testing accuracy is: 0.5162038555603403\n",
      "\n",
      "\n",
      "At random state99, the training accuracy is: 0.5543570848239079\n",
      "At random state99, the testing accuracy is: 0.5098768605778509\n",
      "\n",
      "\n"
     ]
    }
   ],
   "source": [
    "from sklearn.preprocessing import MinMaxScaler\n",
    "mns=MinMaxScaler()\n",
    "from sklearn.linear_model import LinearRegression\n",
    "lr=LinearRegression()\n",
    "from sklearn.metrics import r2_score\n",
    "from sklearn.model_selection import train_test_split\n",
    "import warnings\n",
    "warnings.filterwarnings('ignore')\n",
    "\n",
    "for i in range(0,100):\n",
    "    features_train,features_test,target_train,target_test=train_test_split(features,target,test_size=0.2,random_state=i)\n",
    "    lr.fit(features_train,target_train)\n",
    "    pred_train=lr.predict(features_train)\n",
    "    pred_test=lr.predict(features_test)\n",
    "    print(f\"At random state{i}, the training accuracy is: {r2_score(target_train,pred_train)}\")\n",
    "    print(f\"At random state{i}, the testing accuracy is: {r2_score(target_test,pred_test)}\")\n",
    "    print(\"\\n\")"
   ]
  },
  {
   "cell_type": "code",
   "execution_count": 191,
   "id": "705bf03e",
   "metadata": {},
   "outputs": [],
   "source": [
    "feature_train,feature_test,target_train,target_test=train_test_split(features,target,test_size=0.2,random_state=62)"
   ]
  },
  {
   "cell_type": "markdown",
   "id": "3efe2017",
   "metadata": {},
   "source": [
    "Train the model"
   ]
  },
  {
   "cell_type": "code",
   "execution_count": 192,
   "id": "abe3d270",
   "metadata": {},
   "outputs": [
    {
     "name": "stdout",
     "output_type": "stream",
     "text": [
      "0.6036753984512506\n"
     ]
    }
   ],
   "source": [
    "lr.fit(feature_train,target_train)\n",
    "pred_test=lr.predict(feature_test)\n",
    "print(r2_score(target_test,pred_test))"
   ]
  },
  {
   "cell_type": "markdown",
   "id": "233c2b25",
   "metadata": {},
   "source": [
    "Here the output shows approx. 60% of accuracy on the training data"
   ]
  },
  {
   "cell_type": "markdown",
   "id": "0b53240a",
   "metadata": {},
   "source": [
    "# Cross validation of the model"
   ]
  },
  {
   "cell_type": "code",
   "execution_count": 193,
   "id": "4ecb36bf",
   "metadata": {},
   "outputs": [
    {
     "name": "stdout",
     "output_type": "stream",
     "text": [
      "At cross fold2 the cv score is-4.15973036536161 and accuracy score for training is -0.4619914357856225 and accuracy for testing is 0.6036753984512506\n",
      "\n",
      "\n",
      "At cross fold3 the cv score is-5.058237551039377 and accuracy score for training is -0.4619914357856225 and accuracy for testing is 0.6036753984512506\n",
      "\n",
      "\n",
      "At cross fold4 the cv score is-6.325089192419463 and accuracy score for training is -0.4619914357856225 and accuracy for testing is 0.6036753984512506\n",
      "\n",
      "\n",
      "At cross fold5 the cv score is-6.878484276660859 and accuracy score for training is -0.4619914357856225 and accuracy for testing is 0.6036753984512506\n",
      "\n",
      "\n",
      "At cross fold6 the cv score is-7.304421016911867 and accuracy score for training is -0.4619914357856225 and accuracy for testing is 0.6036753984512506\n",
      "\n",
      "\n",
      "At cross fold7 the cv score is-8.952033968910445 and accuracy score for training is -0.4619914357856225 and accuracy for testing is 0.6036753984512506\n",
      "\n",
      "\n",
      "At cross fold8 the cv score is-9.200967697911492 and accuracy score for training is -0.4619914357856225 and accuracy for testing is 0.6036753984512506\n",
      "\n",
      "\n",
      "At cross fold9 the cv score is-8.496758644067171 and accuracy score for training is -0.4619914357856225 and accuracy for testing is 0.6036753984512506\n",
      "\n",
      "\n"
     ]
    }
   ],
   "source": [
    "Train_accuracy=r2_score(target_train,pred_train)\n",
    "Test_accuracy=r2_score(target_test,pred_test)\n",
    "from sklearn.model_selection import cross_val_score\n",
    "for j in range(2,10):\n",
    "    cv_score=cross_val_score(lr,features,target,cv=j)\n",
    "    cv_mean=cv_score.mean()\n",
    "    print(f\"At cross fold{j} the cv score is{cv_mean} and accuracy score for training is {Train_accuracy} and accuracy for testing is {Test_accuracy}\")\n",
    "    print(\"\\n\")"
   ]
  },
  {
   "cell_type": "markdown",
   "id": "48fb1fab",
   "metadata": {},
   "source": [
    "From the above observations we can see that the percentage of accuracy matches with the training accuracy"
   ]
  },
  {
   "cell_type": "markdown",
   "id": "47e2bbcd",
   "metadata": {},
   "source": [
    "Scatter plot"
   ]
  },
  {
   "cell_type": "code",
   "execution_count": 194,
   "id": "b2cc2a94",
   "metadata": {},
   "outputs": [
    {
     "data": {
      "image/png": "[encoded data removed]",
      "text/plain": [
       "<Figure size 576x432 with 1 Axes>"
      ]
     },
     "metadata": {
      "needs_background": "light"
     },
     "output_type": "display_data"
    }
   ],
   "source": [
    "import matplotlib.pyplot as plt\n",
    "plt.figure(figsize=(8,6))\n",
    "plt.scatter(x=target_test,y=pred_test,color='r')\n",
    "plt.plot(target_test,target_test,color='b')\n",
    "plt.xlabel('Actual charges',fontsize=14)\n",
    "plt.ylabel('Predicted charges',fontsize=14)\n",
    "plt.title('Linear Regression',fontsize=18)\n",
    "plt.savefig('lr.png')\n",
    "plt.show()"
   ]
  },
  {
   "cell_type": "markdown",
   "id": "0cf48b0c",
   "metadata": {},
   "source": [
    "Here the best fit line is covering some of the data points which shows average fit of our model"
   ]
  },
  {
   "cell_type": "markdown",
   "id": "6636d020",
   "metadata": {},
   "source": [
    "# Regularization"
   ]
  },
  {
   "cell_type": "code",
   "execution_count": 195,
   "id": "a21d8a6c",
   "metadata": {},
   "outputs": [
    {
     "name": "stdout",
     "output_type": "stream",
     "text": [
      "{'alpha': 10, 'random_state': 0}\n"
     ]
    }
   ],
   "source": [
    "from sklearn.model_selection import GridSearchCV\n",
    "from sklearn.model_selection import cross_val_score\n",
    "import warnings\n",
    "warnings.filterwarnings('ignore')\n",
    "from sklearn.linear_model import Lasso\n",
    "parameters={'alpha':[.0001,.001,.01,.1,1,10],'random_state':list(range(0,10))}\n",
    "ls=Lasso()\n",
    "clf=GridSearchCV(ls,parameters)\n",
    "clf.fit(features_train,target_train)\n",
    "print(clf.best_params_)"
   ]
  },
  {
   "cell_type": "code",
   "execution_count": null,
   "id": "c87f033c",
   "metadata": {},
   "outputs": [],
   "source": []
  },
  {
   "cell_type": "code",
   "execution_count": 196,
   "id": "8ef6fbf3",
   "metadata": {},
   "outputs": [
    {
     "data": {
      "text/plain": [
       "0.4691062892239639"
      ]
     },
     "execution_count": 196,
     "metadata": {},
     "output_type": "execute_result"
    }
   ],
   "source": [
    "#Final Model Training\n",
    "\n",
    "ls=Lasso(alpha=10,random_state=0)\n",
    "ls.fit(features_train,target_train)\n",
    "ls_score_training=ls.score(features_train,target_train)\n",
    "pred_ls=ls.predict(features_test)\n",
    "ls_score_training*100"
   ]
  },
  {
   "cell_type": "code",
   "execution_count": null,
   "id": "fee22af0",
   "metadata": {},
   "outputs": [],
   "source": [
    "#Checking on the test data"
   ]
  },
  {
   "cell_type": "code",
   "execution_count": 205,
   "id": "8af086ea",
   "metadata": {},
   "outputs": [
    {
     "data": {
      "text/plain": [
       "-1.218929468548624"
      ]
     },
     "execution_count": 205,
     "metadata": {},
     "output_type": "execute_result"
    }
   ],
   "source": [
    "pred_ls=ls.predict(features_test)\n",
    "lss=r2_score(target_test,pred_ls)\n",
    "lss*100"
   ]
  },
  {
   "cell_type": "markdown",
   "id": "dbe6a40a",
   "metadata": {},
   "source": [
    "# Ensemble technique"
   ]
  },
  {
   "cell_type": "code",
   "execution_count": 202,
   "id": "04d0b55c",
   "metadata": {},
   "outputs": [
    {
     "name": "stdout",
     "output_type": "stream",
     "text": [
      "{'criterion': 'mae', 'max_features': 'sqrt'}\n"
     ]
    }
   ],
   "source": [
    "from sklearn.model_selection import GridSearchCV\n",
    "from sklearn.ensemble import RandomForestRegressor\n",
    "parameters={'criterion':['msc','mae'],'max_features':[\"auto\",\"sqrt\",\"log2\"]}\n",
    "rf=RandomForestRegressor()\n",
    "clf=GridSearchCV(rf,parameters)\n",
    "clf.fit(features_train,target_train)\n",
    "print(clf.best_params_)"
   ]
  },
  {
   "cell_type": "code",
   "execution_count": 203,
   "id": "be8ad356",
   "metadata": {},
   "outputs": [],
   "source": [
    "import pickle\n",
    "filename='imdb.pkl'\n",
    "pickle.dump(rf,open(filename,'wb'))"
   ]
  }
 ],
 "metadata": {
  "kernelspec": {
   "display_name": "Python 3 (ipykernel)",
   "language": "python",
   "name": "python3"
  },
  "language_info": {
   "codemirror_mode": {
    "name": "ipython",
    "version": 3
   },
   "file_extension": ".py",
   "mimetype": "text/x-python",
   "name": "python",
   "nbconvert_exporter": "python",
   "pygments_lexer": "ipython3",
   "version": "3.9.12"
  }
 },
 "nbformat": 4,
 "nbformat_minor": 5
}
